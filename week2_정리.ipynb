{
  "nbformat": 4,
  "nbformat_minor": 0,
  "metadata": {
    "colab": {
      "provenance": [],
      "authorship_tag": "ABX9TyMLz0S1Q8wDBLL0IiP9Q6tr",
      "include_colab_link": true
    },
    "kernelspec": {
      "name": "python3",
      "display_name": "Python 3"
    },
    "language_info": {
      "name": "python"
    }
  },
  "cells": [
    {
      "cell_type": "markdown",
      "metadata": {
        "id": "view-in-github",
        "colab_type": "text"
      },
      "source": [
        "<a href=\"https://colab.research.google.com/github/KimDoye1109/AI-programming/blob/main/week2_%EC%A0%95%EB%A6%AC.ipynb\" target=\"_parent\"><img src=\"https://colab.research.google.com/assets/colab-badge.svg\" alt=\"Open In Colab\"/></a>"
      ]
    },
    {
      "cell_type": "markdown",
      "source": [
        "- Tensor 객체의 attributes: ndim, shape, dtype https://ds31x.tistory.com/216"
      ],
      "metadata": {
        "id": "cgyaTJdxTdka"
      }
    },
    {
      "cell_type": "code",
      "execution_count": null,
      "metadata": {
        "id": "Cn4vALbk3iBk"
      },
      "outputs": [],
      "source": [
        "import numpy as np\n",
        "import tensorflow as tf\n",
        "import torch"
      ]
    },
    {
      "cell_type": "code",
      "source": [
        "np.__version__"
      ],
      "metadata": {
        "colab": {
          "base_uri": "https://localhost:8080/",
          "height": 35
        },
        "id": "VS52Ipm438bY",
        "outputId": "1a1517e4-3196-49a8-e707-077051ac194d"
      },
      "execution_count": null,
      "outputs": [
        {
          "output_type": "execute_result",
          "data": {
            "text/plain": [
              "'1.25.2'"
            ],
            "application/vnd.google.colaboratory.intrinsic+json": {
              "type": "string"
            }
          },
          "metadata": {},
          "execution_count": 2
        }
      ]
    },
    {
      "cell_type": "code",
      "source": [
        "tf.__version__"
      ],
      "metadata": {
        "colab": {
          "base_uri": "https://localhost:8080/",
          "height": 35
        },
        "id": "CCk45rNt4B0F",
        "outputId": "ef206724-7470-4d35-f367-6dd1120eeb84"
      },
      "execution_count": null,
      "outputs": [
        {
          "output_type": "execute_result",
          "data": {
            "text/plain": [
              "'2.15.0'"
            ],
            "application/vnd.google.colaboratory.intrinsic+json": {
              "type": "string"
            }
          },
          "metadata": {},
          "execution_count": 3
        }
      ]
    },
    {
      "cell_type": "code",
      "source": [
        "torch.__version__"
      ],
      "metadata": {
        "colab": {
          "base_uri": "https://localhost:8080/",
          "height": 35
        },
        "id": "5SqFzlH04Epj",
        "outputId": "6092f688-6819-42a1-c00c-e7cb1b2f2b49"
      },
      "execution_count": null,
      "outputs": [
        {
          "output_type": "execute_result",
          "data": {
            "text/plain": [
              "'2.2.1+cu121'"
            ],
            "application/vnd.google.colaboratory.intrinsic+json": {
              "type": "string"
            }
          },
          "metadata": {},
          "execution_count": 4
        }
      ]
    },
    {
      "cell_type": "code",
      "source": [
        "import sys\n",
        "print(sys.version)"
      ],
      "metadata": {
        "colab": {
          "base_uri": "https://localhost:8080/"
        },
        "id": "AyewZhXm4IF3",
        "outputId": "9b08311c-1434-49d5-b19f-8e2fa5e263c8"
      },
      "execution_count": null,
      "outputs": [
        {
          "output_type": "stream",
          "name": "stdout",
          "text": [
            "3.10.12 (main, Nov 20 2023, 15:14:05) [GCC 11.4.0]\n"
          ]
        }
      ]
    },
    {
      "cell_type": "code",
      "source": [
        "import importlib"
      ],
      "metadata": {
        "id": "4bXduKmQ4QZ7"
      },
      "execution_count": null,
      "outputs": []
    },
    {
      "cell_type": "markdown",
      "source": [
        "# 1. Tensor 생성하기\n",
        "- list나 tuple로 narray 생성\n",
        "- dtype: data type of element.\n",
        "  - float64: numpy의 기본 값\n",
        "  - uint8: 이미지 프로세싱에 주로 사용, unsigned int(부호가 +, 0)\n",
        "  - int8: signed int(부호 +,0,-)\n",
        "  - float32: float(32bit)\n",
        "\n",
        "tensor를 추상화하는 대표적인 class: ndarray(numpy), tensor(pytorch), constant or Variable (tensorflow)\n",
        "\n",
        "\n",
        "대표적인 attribute(부속물):\n",
        "- dtype: the datatype of element.\n",
        "- ndim: 차원의 수, (=rank)\n",
        "- shape: ndim의 객수로 구성된 sequencty type의 인스턴스로 각 축의 크기\n",
        "\n"
      ],
      "metadata": {
        "id": "YQq9NojA57cj"
      }
    },
    {
      "cell_type": "markdown",
      "source": [
        "pytorch와 numpy의 경우, tensor를 추상화하고 있는 tensor와 ndarray를 제공 -> 상호호환 가능.\n"
      ],
      "metadata": {
        "id": "bCtcqNAlNhCt"
      }
    },
    {
      "cell_type": "code",
      "source": [
        "t = (1,2,3,4,5,6)\n",
        "a = np.array(t)\n",
        "print(type(t))\n",
        "print(type(a))\n",
        "print(a)"
      ],
      "metadata": {
        "colab": {
          "base_uri": "https://localhost:8080/"
        },
        "id": "nKAJH8Xh4TiH",
        "outputId": "b23b0702-3cf2-4cc3-e911-c4dfcf38fd6a"
      },
      "execution_count": null,
      "outputs": [
        {
          "output_type": "stream",
          "name": "stdout",
          "text": [
            "<class 'tuple'>\n",
            "<class 'numpy.ndarray'>\n",
            "[1 2 3 4 5 6]\n"
          ]
        }
      ]
    },
    {
      "cell_type": "markdown",
      "source": [
        "= tuple과 numpy.ndarry 차이\n",
        "\n",
        "tuple은 불변하며 다른 데이터 타입을 포함가능, 1차원, 파이썬의 내장 데이터 구조\n",
        "\n",
        "ndarray는 변화하며 동일 데이터 타입만을 포함, 다차원, Numpy 라이브러리에서 제공"
      ],
      "metadata": {
        "id": "1xdqSJd_7eyo"
      }
    },
    {
      "cell_type": "code",
      "source": [
        "print(a.ndim)\n",
        "print(a.shape) #각 차원의 수\n",
        "print(a.itemsize) #bytes\n",
        "print(a.size)\n",
        "print(a.dtype)"
      ],
      "metadata": {
        "colab": {
          "base_uri": "https://localhost:8080/"
        },
        "id": "hmj3qHcS7fgX",
        "outputId": "16c0dc67-8334-4be8-f3a3-831d8eca9dbd"
      },
      "execution_count": null,
      "outputs": [
        {
          "output_type": "stream",
          "name": "stdout",
          "text": [
            "1\n",
            "(6,)\n",
            "8\n",
            "6\n",
            "int64\n"
          ]
        }
      ]
    },
    {
      "cell_type": "code",
      "source": [
        "  a = np.array([1.,2.,3.])\n",
        "  print(a.dtype)\n",
        "  a = np.array([1.,2.,3.],dtype = int)\n",
        "  print(a.dtype)\n",
        "  a = np.array([1.,2.,3.], dtype = float)\n",
        "  print(a.dtype)"
      ],
      "metadata": {
        "colab": {
          "base_uri": "https://localhost:8080/"
        },
        "id": "geVwvpsX70gl",
        "outputId": "889350b1-51f4-445b-c504-feb0000cf126"
      },
      "execution_count": null,
      "outputs": [
        {
          "output_type": "stream",
          "name": "stdout",
          "text": [
            "float64\n",
            "int64\n",
            "float64\n"
          ]
        }
      ]
    },
    {
      "cell_type": "markdown",
      "source": [
        "tensorflow에서의 tensor 생성하기(tensor에서 itemsize와 size는 제공x)"
      ],
      "metadata": {
        "id": "sbDrbaU68OlD"
      }
    },
    {
      "cell_type": "code",
      "source": [
        "tensor = tf.constant(t) #t=(1,2,3,4,5,6)\n",
        "print(tf.rank(tensor)) #핵심!!\n",
        "print(tensor.ndim)\n",
        "print(tensor.shape)\n",
        "print(tensor.dtype)"
      ],
      "metadata": {
        "colab": {
          "base_uri": "https://localhost:8080/"
        },
        "id": "a0HYGCjY8JGM",
        "outputId": "8ae72d66-6d81-46fb-dc76-5d1980e2aee4"
      },
      "execution_count": null,
      "outputs": [
        {
          "output_type": "stream",
          "name": "stdout",
          "text": [
            "tf.Tensor(1, shape=(), dtype=int32)\n",
            "1\n",
            "(6,)\n",
            "<dtype: 'int32'>\n"
          ]
        }
      ]
    },
    {
      "cell_type": "code",
      "source": [
        "tensor = tf.constant(t)\n",
        "print(tf.Variable(tensor)) #차원rank = ndim\n",
        "#print(tensor.ndim)\n",
        "#print(tensor.shape)\n",
        "#print(tensor.itemsize) -error. not supported\n",
        "#print(tenosr.size) -error. not supported\n",
        "print(tensor.dtype)\n",
        "tensor"
      ],
      "metadata": {
        "id": "1M2FKFS9SQSw",
        "colab": {
          "base_uri": "https://localhost:8080/"
        },
        "outputId": "9205eeb1-c33e-485c-d0a9-4d6f279a8c00"
      },
      "execution_count": null,
      "outputs": [
        {
          "output_type": "stream",
          "name": "stdout",
          "text": [
            "<tf.Variable 'Variable:0' shape=(6,) dtype=int32, numpy=array([1, 2, 3, 4, 5, 6], dtype=int32)>\n",
            "<dtype: 'int32'>\n"
          ]
        },
        {
          "output_type": "execute_result",
          "data": {
            "text/plain": [
              "<tf.Tensor: shape=(6,), dtype=int32, numpy=array([1, 2, 3, 4, 5, 6], dtype=int32)>"
            ]
          },
          "metadata": {},
          "execution_count": 11
        }
      ]
    },
    {
      "cell_type": "code",
      "source": [
        "p = torch.tensor(t)\n",
        "print(p.ndim)\n",
        "print(p.shape)\n",
        "print(p.itemsize)\n",
        "print(p.size()) #not attribute, but method, 핵심!!\n",
        "print(p.dtype)"
      ],
      "metadata": {
        "id": "qk3Ml3mjJjrM",
        "colab": {
          "base_uri": "https://localhost:8080/"
        },
        "outputId": "83520a48-3300-4a57-e91d-c5b63d807c4a"
      },
      "execution_count": null,
      "outputs": [
        {
          "output_type": "stream",
          "name": "stdout",
          "text": [
            "1\n",
            "torch.Size([6])\n",
            "8\n",
            "torch.Size([6])\n",
            "torch.int64\n"
          ]
        }
      ]
    },
    {
      "cell_type": "code",
      "source": [
        "p= torch.tensor(t)\n",
        "print(p.ndim,type(p.ndim))\n",
        "print(p.shape,type(p.shape))\n",
        "print(p.itemsize,type(p.itemsize))\n",
        "print(p.size(),type(p.size())) #not attribute but method\n",
        "print(p.dtype,type(p.dtype))"
      ],
      "metadata": {
        "id": "OF5mbG8FShhM",
        "colab": {
          "base_uri": "https://localhost:8080/"
        },
        "outputId": "de1699e4-a983-4fc3-d4ca-08516462f85f"
      },
      "execution_count": null,
      "outputs": [
        {
          "output_type": "stream",
          "name": "stdout",
          "text": [
            "1 <class 'int'>\n",
            "torch.Size([6]) <class 'torch.Size'>\n",
            "8 <class 'int'>\n",
            "torch.Size([6]) <class 'torch.Size'>\n",
            "torch.int64 <class 'torch.dtype'>\n"
          ]
        }
      ]
    },
    {
      "cell_type": "markdown",
      "source": [
        "# 1-0. 기본 dtype\n",
        "numpy의 경우, float64와 int64\n",
        "\n",
        "tensorflow의 경우, float32와 int32\n",
        "\n",
        "torch의 경우, float32와 int64"
      ],
      "metadata": {
        "id": "kU81BBhL7Dz4"
      }
    },
    {
      "cell_type": "code",
      "source": [
        "print(np.array([1., 2., 3.]).dtype)\n",
        "print(np.array([1, 2, 3]).dtype)\n",
        "print(tf.constant([1., 2., 3.]).dtype)\n",
        "print(tf.constant([1, 2, 3]).dtype)\n",
        "print(torch.tensor([1., 2., 3.]).dtype)\n",
        "print(torch.tensor([1, 2, 3]).dtype)"
      ],
      "metadata": {
        "colab": {
          "base_uri": "https://localhost:8080/"
        },
        "id": "_VUmckMCCqem",
        "outputId": "c50721b9-ff9f-4a06-fb2b-8a5cd4802e9e"
      },
      "execution_count": null,
      "outputs": [
        {
          "output_type": "stream",
          "name": "stdout",
          "text": [
            "float64\n",
            "int64\n",
            "<dtype: 'float32'>\n",
            "<dtype: 'int32'>\n",
            "torch.float32\n",
            "torch.int64\n"
          ]
        }
      ]
    },
    {
      "cell_type": "markdown",
      "source": [
        "# 1-1. multi-dimensionial array!\n"
      ],
      "metadata": {
        "id": "w9XrS8cWDZyV"
      }
    },
    {
      "cell_type": "code",
      "source": [
        "a = np.array([range(i, i+3) for i in [2,3,4]])\n",
        "print(a.ndim)\n",
        "print(a.shape) #행, 열\n",
        "print(a.itemsize)\n",
        "print(a.size)\n",
        "print(a.dtype)\n",
        "a"
      ],
      "metadata": {
        "colab": {
          "base_uri": "https://localhost:8080/"
        },
        "id": "FTyw4rRKDEam",
        "outputId": "9489dbdb-f48f-43b4-f648-57669e918de0"
      },
      "execution_count": null,
      "outputs": [
        {
          "output_type": "stream",
          "name": "stdout",
          "text": [
            "2\n",
            "(3, 3)\n",
            "8\n",
            "9\n",
            "int64\n"
          ]
        },
        {
          "output_type": "execute_result",
          "data": {
            "text/plain": [
              "array([[2, 3, 4],\n",
              "       [3, 4, 5],\n",
              "       [4, 5, 6]])"
            ]
          },
          "metadata": {},
          "execution_count": 15
        }
      ]
    },
    {
      "cell_type": "code",
      "source": [
        "tensor = tf.constant(a)\n",
        "print(tf.rank(tensor))\n",
        "print(tensor.ndim)\n",
        "print(tensor.dtype)\n",
        "print(tensor.shape)\n",
        "tensor"
      ],
      "metadata": {
        "colab": {
          "base_uri": "https://localhost:8080/"
        },
        "id": "xOs5SpZNECqP",
        "outputId": "4664c7b1-bc30-4a24-8acb-249c41a09ced"
      },
      "execution_count": null,
      "outputs": [
        {
          "output_type": "stream",
          "name": "stdout",
          "text": [
            "tf.Tensor(2, shape=(), dtype=int32)\n",
            "2\n",
            "<dtype: 'int64'>\n",
            "(3, 3)\n"
          ]
        },
        {
          "output_type": "execute_result",
          "data": {
            "text/plain": [
              "<tf.Tensor: shape=(3, 3), dtype=int64, numpy=\n",
              "array([[2, 3, 4],\n",
              "       [3, 4, 5],\n",
              "       [4, 5, 6]])>"
            ]
          },
          "metadata": {},
          "execution_count": 16
        }
      ]
    },
    {
      "cell_type": "code",
      "source": [
        "p = torch.tensor(a)\n",
        "print(p.ndim)\n",
        "print(p.shape)\n",
        "print(p.itemsize)\n",
        "print(p.size()) #not attribute but method\n",
        "print(p.dtype)\n",
        "p"
      ],
      "metadata": {
        "colab": {
          "base_uri": "https://localhost:8080/"
        },
        "id": "0IsFkVNSEbhL",
        "outputId": "7e99b817-d062-4a2d-e4de-12e7981145c3"
      },
      "execution_count": null,
      "outputs": [
        {
          "output_type": "stream",
          "name": "stdout",
          "text": [
            "2\n",
            "torch.Size([3, 3])\n",
            "8\n",
            "torch.Size([3, 3])\n",
            "torch.int64\n"
          ]
        },
        {
          "output_type": "execute_result",
          "data": {
            "text/plain": [
              "tensor([[2, 3, 4],\n",
              "        [3, 4, 5],\n",
              "        [4, 5, 6]])"
            ]
          },
          "metadata": {},
          "execution_count": 17
        }
      ]
    },
    {
      "cell_type": "markdown",
      "source": [
        "# 1-2. tensor를 특정 값으로 초기화하기\n",
        "zeros, ones, and full (or fill)"
      ],
      "metadata": {
        "id": "uSbMcLEUFTwO"
      }
    },
    {
      "cell_type": "code",
      "source": [
        "a = np.zeros((3,2)) #dtype = float64\n",
        "#a = np.zeros(shape=(4,4),dtype=np.unit8)\n",
        "print(a.dtype)\n",
        "a"
      ],
      "metadata": {
        "colab": {
          "base_uri": "https://localhost:8080/"
        },
        "id": "rlxaSjPtFelG",
        "outputId": "8222dd0f-4b4c-4338-faec-10c4ac006cdd"
      },
      "execution_count": null,
      "outputs": [
        {
          "output_type": "stream",
          "name": "stdout",
          "text": [
            "float64\n"
          ]
        },
        {
          "output_type": "execute_result",
          "data": {
            "text/plain": [
              "array([[0., 0.],\n",
              "       [0., 0.],\n",
              "       [0., 0.]])"
            ]
          },
          "metadata": {},
          "execution_count": 18
        }
      ]
    },
    {
      "cell_type": "code",
      "source": [
        "a_tf = tf.zeros(shape = (3,2)) #기본 dtype = float 32, tf.zeros((3,2)) 가\n",
        "print(a_tf.dtype)\n",
        "a_tf"
      ],
      "metadata": {
        "colab": {
          "base_uri": "https://localhost:8080/"
        },
        "id": "uK212KR5E7F8",
        "outputId": "eaf38873-2fc9-4739-9448-fbfdaa477b58"
      },
      "execution_count": null,
      "outputs": [
        {
          "output_type": "stream",
          "name": "stdout",
          "text": [
            "<dtype: 'float32'>\n"
          ]
        },
        {
          "output_type": "execute_result",
          "data": {
            "text/plain": [
              "<tf.Tensor: shape=(3, 2), dtype=float32, numpy=\n",
              "array([[0., 0.],\n",
              "       [0., 0.],\n",
              "       [0., 0.]], dtype=float32)>"
            ]
          },
          "metadata": {},
          "execution_count": 19
        }
      ]
    },
    {
      "cell_type": "code",
      "source": [
        "a_tf.numpy()"
      ],
      "metadata": {
        "colab": {
          "base_uri": "https://localhost:8080/"
        },
        "id": "88qu80rKEb0a",
        "outputId": "842b14ba-68f5-4682-c3f7-f7a6e42ca7b3"
      },
      "execution_count": null,
      "outputs": [
        {
          "output_type": "execute_result",
          "data": {
            "text/plain": [
              "array([[0., 0.],\n",
              "       [0., 0.],\n",
              "       [0., 0.]], dtype=float32)"
            ]
          },
          "metadata": {},
          "execution_count": 20
        }
      ]
    },
    {
      "cell_type": "code",
      "source": [
        "p = torch.zeros(size = (3,2)) #없는 것도 X, shape X\n",
        "print(p.dtype)\n",
        "p\n",
        "# p.numpy()도 가능"
      ],
      "metadata": {
        "colab": {
          "base_uri": "https://localhost:8080/"
        },
        "id": "Nas3fHq5F5Hp",
        "outputId": "55ab8cbd-1fdc-4ec6-9831-ef6d7fc8a361"
      },
      "execution_count": null,
      "outputs": [
        {
          "output_type": "stream",
          "name": "stdout",
          "text": [
            "torch.float32\n"
          ]
        },
        {
          "output_type": "execute_result",
          "data": {
            "text/plain": [
              "tensor([[0., 0.],\n",
              "        [0., 0.],\n",
              "        [0., 0.]])"
            ]
          },
          "metadata": {},
          "execution_count": 21
        }
      ]
    },
    {
      "cell_type": "code",
      "source": [
        "a = np.ones((4, 2, 3))\n",
        "print(a.dtype)\n",
        "a"
      ],
      "metadata": {
        "colab": {
          "base_uri": "https://localhost:8080/"
        },
        "id": "StLeHJ0hGNaN",
        "outputId": "1cf1fe6f-9a63-4e7c-8ed3-dddff50b594a"
      },
      "execution_count": null,
      "outputs": [
        {
          "output_type": "stream",
          "name": "stdout",
          "text": [
            "float64\n"
          ]
        },
        {
          "output_type": "execute_result",
          "data": {
            "text/plain": [
              "array([[[1., 1., 1.],\n",
              "        [1., 1., 1.]],\n",
              "\n",
              "       [[1., 1., 1.],\n",
              "        [1., 1., 1.]],\n",
              "\n",
              "       [[1., 1., 1.],\n",
              "        [1., 1., 1.]],\n",
              "\n",
              "       [[1., 1., 1.],\n",
              "        [1., 1., 1.]]])"
            ]
          },
          "metadata": {},
          "execution_count": 22
        }
      ]
    },
    {
      "cell_type": "code",
      "source": [
        "a_tf = tf.ones(shape = (4,2,3))\n",
        "print(a_tf.dtype)\n",
        "a_tf"
      ],
      "metadata": {
        "colab": {
          "base_uri": "https://localhost:8080/"
        },
        "id": "H6mH7Hu-Gh6T",
        "outputId": "70869efc-0d41-46e3-b031-c7d929a0bf80"
      },
      "execution_count": null,
      "outputs": [
        {
          "output_type": "stream",
          "name": "stdout",
          "text": [
            "<dtype: 'float32'>\n"
          ]
        },
        {
          "output_type": "execute_result",
          "data": {
            "text/plain": [
              "<tf.Tensor: shape=(4, 2, 3), dtype=float32, numpy=\n",
              "array([[[1., 1., 1.],\n",
              "        [1., 1., 1.]],\n",
              "\n",
              "       [[1., 1., 1.],\n",
              "        [1., 1., 1.]],\n",
              "\n",
              "       [[1., 1., 1.],\n",
              "        [1., 1., 1.]],\n",
              "\n",
              "       [[1., 1., 1.],\n",
              "        [1., 1., 1.]]], dtype=float32)>"
            ]
          },
          "metadata": {},
          "execution_count": 23
        }
      ]
    },
    {
      "cell_type": "code",
      "source": [
        "p = torch.ones(size = (4,2,3))\n",
        "print(p.dtype)\n",
        "p"
      ],
      "metadata": {
        "colab": {
          "base_uri": "https://localhost:8080/"
        },
        "id": "74xv3xZWG9DU",
        "outputId": "2311d549-5029-420e-ed96-a5ad9846cec2"
      },
      "execution_count": null,
      "outputs": [
        {
          "output_type": "stream",
          "name": "stdout",
          "text": [
            "torch.float32\n"
          ]
        },
        {
          "output_type": "execute_result",
          "data": {
            "text/plain": [
              "tensor([[[1., 1., 1.],\n",
              "         [1., 1., 1.]],\n",
              "\n",
              "        [[1., 1., 1.],\n",
              "         [1., 1., 1.]],\n",
              "\n",
              "        [[1., 1., 1.],\n",
              "         [1., 1., 1.]],\n",
              "\n",
              "        [[1., 1., 1.],\n",
              "         [1., 1., 1.]]])"
            ]
          },
          "metadata": {},
          "execution_count": 24
        }
      ]
    },
    {
      "cell_type": "code",
      "source": [
        "a = np.full((1,3),255) #행, 열, 채우고 싶은 숫자\n",
        "print(a.dtype)\n",
        "a"
      ],
      "metadata": {
        "colab": {
          "base_uri": "https://localhost:8080/"
        },
        "id": "iaxYEOL-HG0C",
        "outputId": "fd48d4d7-b569-4d08-b55a-dc4e86df7842"
      },
      "execution_count": null,
      "outputs": [
        {
          "output_type": "stream",
          "name": "stdout",
          "text": [
            "int64\n"
          ]
        },
        {
          "output_type": "execute_result",
          "data": {
            "text/plain": [
              "array([[255, 255, 255]])"
            ]
          },
          "metadata": {},
          "execution_count": 25
        }
      ]
    },
    {
      "cell_type": "code",
      "source": [
        "a_tf = tf.fill((1,3),255) #not full, but fill\n",
        "print(a_tf.dtype) #default int 32\n",
        "a_tf"
      ],
      "metadata": {
        "colab": {
          "base_uri": "https://localhost:8080/"
        },
        "id": "vY-AkmMJHOsI",
        "outputId": "af7a9dbe-5b01-44e9-dce7-d9cc4ab24ba3"
      },
      "execution_count": null,
      "outputs": [
        {
          "output_type": "stream",
          "name": "stdout",
          "text": [
            "<dtype: 'int32'>\n"
          ]
        },
        {
          "output_type": "execute_result",
          "data": {
            "text/plain": [
              "<tf.Tensor: shape=(1, 3), dtype=int32, numpy=array([[255, 255, 255]], dtype=int32)>"
            ]
          },
          "metadata": {},
          "execution_count": 26
        }
      ]
    },
    {
      "cell_type": "code",
      "source": [
        "p = torch.full((1,3),255)\n",
        "print(torch.dtype)\n",
        "p"
      ],
      "metadata": {
        "colab": {
          "base_uri": "https://localhost:8080/"
        },
        "id": "ZQaffaqlHkFb",
        "outputId": "7da8d280-17e3-4ed9-df15-01f180221a5f"
      },
      "execution_count": null,
      "outputs": [
        {
          "output_type": "stream",
          "name": "stdout",
          "text": [
            "<class 'torch.dtype'>\n"
          ]
        },
        {
          "output_type": "execute_result",
          "data": {
            "text/plain": [
              "tensor([[255, 255, 255]])"
            ]
          },
          "metadata": {},
          "execution_count": 27
        }
      ]
    },
    {
      "cell_type": "markdown",
      "source": [
        "# 1-3. 기존의 tensor와 같은 shape의 새로운 tensor 생성\n",
        "- 기존의 ndarray와 같은 shape를 가지는 ndarray 생성(torch의 tensor도 유사)\n",
        "  - zeros_like, ones_like, and full_like\n",
        "- tf의 경우는 다음과 같음.\n",
        "  - zeros_like, ones_like, and fill"
      ],
      "metadata": {
        "id": "DABrNEsSH0s0"
      }
    },
    {
      "cell_type": "code",
      "source": [
        "s = np.array([[1, 2, 3], [4, 5, 6]])\n",
        "print(s.shape, s.dtype)\n",
        "\n",
        "a = np.zeros_like(s)\n",
        "print(a.shape, a.dtype)\n",
        "a"
      ],
      "metadata": {
        "colab": {
          "base_uri": "https://localhost:8080/"
        },
        "id": "06u9aoX8HzXC",
        "outputId": "b98b95e9-a5d2-4f7c-80bd-ed956f390f26"
      },
      "execution_count": null,
      "outputs": [
        {
          "output_type": "stream",
          "name": "stdout",
          "text": [
            "(2, 3) int64\n",
            "(2, 3) int64\n"
          ]
        },
        {
          "output_type": "execute_result",
          "data": {
            "text/plain": [
              "array([[0, 0, 0],\n",
              "       [0, 0, 0]])"
            ]
          },
          "metadata": {},
          "execution_count": 28
        }
      ]
    },
    {
      "cell_type": "code",
      "source": [
        "a = np.ones_like(s)\n",
        "print(a.shape, a.dtype)\n",
        "a"
      ],
      "metadata": {
        "colab": {
          "base_uri": "https://localhost:8080/"
        },
        "id": "nAV2hFhUKgXA",
        "outputId": "7b21593b-13d5-4003-aba8-f0e4b83bf446"
      },
      "execution_count": null,
      "outputs": [
        {
          "output_type": "stream",
          "name": "stdout",
          "text": [
            "(2, 3) int64\n"
          ]
        },
        {
          "output_type": "execute_result",
          "data": {
            "text/plain": [
              "array([[1, 1, 1],\n",
              "       [1, 1, 1]])"
            ]
          },
          "metadata": {},
          "execution_count": 29
        }
      ]
    },
    {
      "cell_type": "code",
      "source": [
        "a = np.full_like(s, 3.0)\n",
        "print(a.shape, a.dtype)\n",
        "a"
      ],
      "metadata": {
        "colab": {
          "base_uri": "https://localhost:8080/"
        },
        "id": "Ivb4VsPvKgcQ",
        "outputId": "0c36c4b2-7a84-4706-d295-357a9b477362"
      },
      "execution_count": null,
      "outputs": [
        {
          "output_type": "stream",
          "name": "stdout",
          "text": [
            "(2, 3) int64\n"
          ]
        },
        {
          "output_type": "execute_result",
          "data": {
            "text/plain": [
              "array([[3, 3, 3],\n",
              "       [3, 3, 3]])"
            ]
          },
          "metadata": {},
          "execution_count": 30
        }
      ]
    },
    {
      "cell_type": "markdown",
      "source": [
        "= np.full_like(s, 3.0)에서 3.0의 의미는?\n",
        "채워지는 숫자"
      ],
      "metadata": {
        "id": "aQ-mTz0KI_0U"
      }
    },
    {
      "cell_type": "code",
      "source": [
        "s = tf.constant([[1,2,3],[4,5,6]])\n",
        "print(s.shape, s.dtype)\n",
        "\n",
        "a = tf.zeros_like(s)\n",
        "print(a.shape, a.dtype)\n",
        "a"
      ],
      "metadata": {
        "colab": {
          "base_uri": "https://localhost:8080/"
        },
        "id": "dmc1kJ8TI4R8",
        "outputId": "c1e212a2-1cce-4465-a148-a10d95e27136"
      },
      "execution_count": null,
      "outputs": [
        {
          "output_type": "stream",
          "name": "stdout",
          "text": [
            "(2, 3) <dtype: 'int32'>\n",
            "(2, 3) <dtype: 'int32'>\n"
          ]
        },
        {
          "output_type": "execute_result",
          "data": {
            "text/plain": [
              "<tf.Tensor: shape=(2, 3), dtype=int32, numpy=\n",
              "array([[0, 0, 0],\n",
              "       [0, 0, 0]], dtype=int32)>"
            ]
          },
          "metadata": {},
          "execution_count": 31
        }
      ]
    },
    {
      "cell_type": "code",
      "source": [
        "b = tf.ones_like(s)\n",
        "print(b.shape, b.dtype)\n",
        "b"
      ],
      "metadata": {
        "colab": {
          "base_uri": "https://localhost:8080/"
        },
        "id": "FcifhAuSKm0x",
        "outputId": "6b1c7105-9c3c-4b1c-db77-d9029c71895c"
      },
      "execution_count": null,
      "outputs": [
        {
          "output_type": "stream",
          "name": "stdout",
          "text": [
            "(2, 3) <dtype: 'int32'>\n"
          ]
        },
        {
          "output_type": "execute_result",
          "data": {
            "text/plain": [
              "<tf.Tensor: shape=(2, 3), dtype=int32, numpy=\n",
              "array([[1, 1, 1],\n",
              "       [1, 1, 1]], dtype=int32)>"
            ]
          },
          "metadata": {},
          "execution_count": 32
        }
      ]
    },
    {
      "cell_type": "code",
      "source": [
        "c = tf.fill(s.shape, 3.0)\n",
        "print(c.shape, c.dtype)\n",
        "c"
      ],
      "metadata": {
        "colab": {
          "base_uri": "https://localhost:8080/"
        },
        "id": "ZzUvPlzyKm4L",
        "outputId": "42c1daca-e99c-4967-b43e-e5094c107f25"
      },
      "execution_count": null,
      "outputs": [
        {
          "output_type": "stream",
          "name": "stdout",
          "text": [
            "(2, 3) <dtype: 'float32'>\n"
          ]
        },
        {
          "output_type": "execute_result",
          "data": {
            "text/plain": [
              "<tf.Tensor: shape=(2, 3), dtype=float32, numpy=\n",
              "array([[3., 3., 3.],\n",
              "       [3., 3., 3.]], dtype=float32)>"
            ]
          },
          "metadata": {},
          "execution_count": 33
        }
      ]
    },
    {
      "cell_type": "code",
      "source": [
        "p = torch.tensor([[1,2,3], [4,5,6]])\n",
        "print(p.shape, p.dtype)\n",
        "\n",
        "a = torch.zeros_like(p)\n",
        "print(a.shape, a.dtype)\n",
        "a"
      ],
      "metadata": {
        "colab": {
          "base_uri": "https://localhost:8080/"
        },
        "id": "FoKvh4wkKr1W",
        "outputId": "e321366c-664b-410d-83de-faea0f5e074e"
      },
      "execution_count": null,
      "outputs": [
        {
          "output_type": "stream",
          "name": "stdout",
          "text": [
            "torch.Size([2, 3]) torch.int64\n",
            "torch.Size([2, 3]) torch.int64\n"
          ]
        },
        {
          "output_type": "execute_result",
          "data": {
            "text/plain": [
              "tensor([[0, 0, 0],\n",
              "        [0, 0, 0]])"
            ]
          },
          "metadata": {},
          "execution_count": 34
        }
      ]
    },
    {
      "cell_type": "code",
      "source": [
        "b = torch.ones_like(p)\n",
        "print(b.shape, b.dtype)\n",
        "b"
      ],
      "metadata": {
        "colab": {
          "base_uri": "https://localhost:8080/"
        },
        "id": "s5ADRGM5LDLb",
        "outputId": "e4940f36-db51-4337-a440-0819c7802d33"
      },
      "execution_count": null,
      "outputs": [
        {
          "output_type": "stream",
          "name": "stdout",
          "text": [
            "torch.Size([2, 3]) torch.int64\n"
          ]
        },
        {
          "output_type": "execute_result",
          "data": {
            "text/plain": [
              "tensor([[1, 1, 1],\n",
              "        [1, 1, 1]])"
            ]
          },
          "metadata": {},
          "execution_count": 35
        }
      ]
    },
    {
      "cell_type": "code",
      "source": [
        "c = torch.full_like(p, 3.0)\n",
        "print(c.shape, c.dtype)\n",
        "c"
      ],
      "metadata": {
        "colab": {
          "base_uri": "https://localhost:8080/"
        },
        "id": "ihTD7DMALZ2K",
        "outputId": "ff072181-2bde-4da1-b028-c7f39aee7cfa"
      },
      "execution_count": null,
      "outputs": [
        {
          "output_type": "stream",
          "name": "stdout",
          "text": [
            "torch.Size([2, 3]) torch.int64\n"
          ]
        },
        {
          "output_type": "execute_result",
          "data": {
            "text/plain": [
              "tensor([[3, 3, 3],\n",
              "        [3, 3, 3]])"
            ]
          },
          "metadata": {},
          "execution_count": 36
        }
      ]
    },
    {
      "cell_type": "markdown",
      "source": [
        "#1-4. 기타 다른 tensor 생성 방법들."
      ],
      "metadata": {
        "id": "P6vxPgeEL3eM"
      }
    },
    {
      "cell_type": "code",
      "source": [
        "print(range(0, 10, 1)) #only integer\n",
        "print(np.arange(0,1,0.1))"
      ],
      "metadata": {
        "colab": {
          "base_uri": "https://localhost:8080/"
        },
        "id": "9EhCYJLSL0P_",
        "outputId": "4656215a-f621-4d31-80b0-09921d97e108"
      },
      "execution_count": null,
      "outputs": [
        {
          "output_type": "stream",
          "name": "stdout",
          "text": [
            "range(0, 10)\n",
            "[0.  0.1 0.2 0.3 0.4 0.5 0.6 0.7 0.8 0.9]\n"
          ]
        }
      ]
    },
    {
      "cell_type": "code",
      "source": [
        "a = np.arange(0, 24, 2).reshape(3,4)\n",
        "print(a.dtype)\n",
        "a"
      ],
      "metadata": {
        "colab": {
          "base_uri": "https://localhost:8080/"
        },
        "id": "2pi1ko_FMXsW",
        "outputId": "1e230e98-5e5a-4a21-955b-a0bd142cd3a9"
      },
      "execution_count": null,
      "outputs": [
        {
          "output_type": "stream",
          "name": "stdout",
          "text": [
            "int64\n"
          ]
        },
        {
          "output_type": "execute_result",
          "data": {
            "text/plain": [
              "array([[ 0,  2,  4,  6],\n",
              "       [ 8, 10, 12, 14],\n",
              "       [16, 18, 20, 22]])"
            ]
          },
          "metadata": {},
          "execution_count": 38
        }
      ]
    },
    {
      "cell_type": "code",
      "source": [
        "a_tf = tf.constant(tf.range(0,6,0.5),shape=(3,4)) #float도 가능\n",
        "print(a_tf.dtype)\n",
        "a_tf"
      ],
      "metadata": {
        "colab": {
          "base_uri": "https://localhost:8080/"
        },
        "id": "aGayP4ZrMMmf",
        "outputId": "9814f3ff-3e50-4ae6-bb68-2c4415991c2a"
      },
      "execution_count": null,
      "outputs": [
        {
          "output_type": "stream",
          "name": "stdout",
          "text": [
            "<dtype: 'float32'>\n"
          ]
        },
        {
          "output_type": "execute_result",
          "data": {
            "text/plain": [
              "<tf.Tensor: shape=(3, 4), dtype=float32, numpy=\n",
              "array([[0. , 0.5, 1. , 1.5],\n",
              "       [2. , 2.5, 3. , 3.5],\n",
              "       [4. , 4.5, 5. , 5.5]], dtype=float32)>"
            ]
          },
          "metadata": {},
          "execution_count": 39
        }
      ]
    },
    {
      "cell_type": "code",
      "source": [
        "a_torch = torch.arange(0,24,2).reshape(3,4)\n",
        "print(a_torch.dtype)\n",
        "a_torch"
      ],
      "metadata": {
        "colab": {
          "base_uri": "https://localhost:8080/"
        },
        "id": "38n3ZvNIM0Z4",
        "outputId": "003fe42d-3262-45d8-f109-1f43dc829f91"
      },
      "execution_count": null,
      "outputs": [
        {
          "output_type": "stream",
          "name": "stdout",
          "text": [
            "torch.int64\n"
          ]
        },
        {
          "output_type": "execute_result",
          "data": {
            "text/plain": [
              "tensor([[ 0,  2,  4,  6],\n",
              "        [ 8, 10, 12, 14],\n",
              "        [16, 18, 20, 22]])"
            ]
          },
          "metadata": {},
          "execution_count": 40
        }
      ]
    },
    {
      "cell_type": "code",
      "source": [
        "a = torch.arange(0., 1., 0.1)\n",
        "print(a.dtype)\n",
        "a"
      ],
      "metadata": {
        "colab": {
          "base_uri": "https://localhost:8080/"
        },
        "id": "wmCdWA25NAfu",
        "outputId": "27af1511-0542-4f82-a326-e6907ca3d127"
      },
      "execution_count": null,
      "outputs": [
        {
          "output_type": "stream",
          "name": "stdout",
          "text": [
            "torch.float32\n"
          ]
        },
        {
          "output_type": "execute_result",
          "data": {
            "text/plain": [
              "tensor([0.0000, 0.1000, 0.2000, 0.3000, 0.4000, 0.5000, 0.6000, 0.7000, 0.8000,\n",
              "        0.9000])"
            ]
          },
          "metadata": {},
          "execution_count": 41
        }
      ]
    },
    {
      "cell_type": "code",
      "source": [
        "a = np.linspace(1,5,6) #linspace 일정한 간격으로 숫자 추출\n",
        "print(a.dtype)\n",
        "print(a)\n",
        "\n",
        "a_tf = tf.linspace(1, 5, 6)\n",
        "print(a_tf.dtype)\n",
        "b_tf = tf.dtypes.cast(a_tf, tf.float32)\n",
        "print(b_tf.dtype)\n",
        "print(b_tf)\n",
        "a_torch = torch.linspace(1,5,6)\n",
        "print(a_torch.dtype)\n",
        "print(a_torch)"
      ],
      "metadata": {
        "colab": {
          "base_uri": "https://localhost:8080/"
        },
        "id": "72TRBo-ZNGor",
        "outputId": "cf9807cc-8a45-4d21-9214-74867bc75c4a"
      },
      "execution_count": null,
      "outputs": [
        {
          "output_type": "stream",
          "name": "stdout",
          "text": [
            "float64\n",
            "[1.  1.8 2.6 3.4 4.2 5. ]\n",
            "<dtype: 'float64'>\n",
            "<dtype: 'float32'>\n",
            "tf.Tensor([1.  1.8 2.6 3.4 4.2 5. ], shape=(6,), dtype=float32)\n",
            "torch.float32\n",
            "tensor([1.0000, 1.8000, 2.6000, 3.4000, 4.2000, 5.0000])\n"
          ]
        }
      ]
    },
    {
      "cell_type": "markdown",
      "source": [
        "eye = 사선 정렬"
      ],
      "metadata": {
        "id": "nKoYvCu1OsUg"
      }
    },
    {
      "cell_type": "code",
      "source": [
        "a = np.eye(5)\n",
        "print(a.dtype)\n",
        "print(a)\n",
        "\n",
        "a_tf = tf.eye(5)\n",
        "print(a_tf.dtype)\n",
        "print(a_tf)\n",
        "\n",
        "a_torch = torch.eye(5)\n",
        "print(a_torch.dtype)\n",
        "print(a_torch)"
      ],
      "metadata": {
        "colab": {
          "base_uri": "https://localhost:8080/"
        },
        "id": "qENoYv4PNpZ9",
        "outputId": "7070d826-beed-47d9-c18e-cd59f2443d4a"
      },
      "execution_count": null,
      "outputs": [
        {
          "output_type": "stream",
          "name": "stdout",
          "text": [
            "float64\n",
            "[[1. 0. 0. 0. 0.]\n",
            " [0. 1. 0. 0. 0.]\n",
            " [0. 0. 1. 0. 0.]\n",
            " [0. 0. 0. 1. 0.]\n",
            " [0. 0. 0. 0. 1.]]\n",
            "<dtype: 'float32'>\n",
            "tf.Tensor(\n",
            "[[1. 0. 0. 0. 0.]\n",
            " [0. 1. 0. 0. 0.]\n",
            " [0. 0. 1. 0. 0.]\n",
            " [0. 0. 0. 1. 0.]\n",
            " [0. 0. 0. 0. 1.]], shape=(5, 5), dtype=float32)\n",
            "torch.float32\n",
            "tensor([[1., 0., 0., 0., 0.],\n",
            "        [0., 1., 0., 0., 0.],\n",
            "        [0., 0., 1., 0., 0.],\n",
            "        [0., 0., 0., 1., 0.],\n",
            "        [0., 0., 0., 0., 1.]])\n"
          ]
        }
      ]
    },
    {
      "cell_type": "code",
      "source": [
        "a = np.empty((4,2))\n",
        "print(a.dtype)\n",
        "print(a)\n",
        "\n",
        "#tf는 not working. ->\n",
        "\n",
        "a_torch = torch.empty((4,2))\n",
        "print(a_torch.dtype)\n",
        "print(a_torch)"
      ],
      "metadata": {
        "colab": {
          "base_uri": "https://localhost:8080/"
        },
        "id": "KPtNiSJwOoC2",
        "outputId": "59e7399d-2416-4d4d-8281-a65035b3f5c1"
      },
      "execution_count": null,
      "outputs": [
        {
          "output_type": "stream",
          "name": "stdout",
          "text": [
            "float64\n",
            "[[4.82362356e-310 0.00000000e+000]\n",
            " [0.00000000e+000 0.00000000e+000]\n",
            " [0.00000000e+000 0.00000000e+000]\n",
            " [0.00000000e+000 0.00000000e+000]]\n",
            "torch.float32\n",
            "tensor([[-9.2414e-35,  4.3796e-41],\n",
            "        [-9.2414e-35,  4.3796e-41],\n",
            "        [ 4.4842e-44,  0.0000e+00],\n",
            "        [ 1.7937e-43,  0.0000e+00]])\n"
          ]
        }
      ]
    },
    {
      "cell_type": "markdown",
      "source": [
        "#1-5. 난수로 구성된 tensor 생성\n",
        "- numpy.random과 torch\n",
        "  - rand([d0 [,d1, [...,dn]): 0~1사이의 수들이 균일한 확률로 선택되어 반환됨.\n",
        "    - d0,...dn: 난수로 구성된 ndarray의 shape를 지정하는데 사용됨.\n",
        "  - randn([d0 [,d1, [...,dn]):\n",
        "  μ=0,σ=1인 정규분포를 따르는 난수 반환.\n",
        "* tensorflow\n",
        "  * random.uniform(shape, minval, maxval)\n",
        "  * random.normal(shape, mean,stddev)"
      ],
      "metadata": {
        "id": "H5IJviKcPLLa"
      }
    },
    {
      "cell_type": "code",
      "source": [
        "a = np.random.rand(3,4)\n",
        "print(a.dtype)\n",
        "a"
      ],
      "metadata": {
        "colab": {
          "base_uri": "https://localhost:8080/"
        },
        "id": "nQec8HiLPIhn",
        "outputId": "cfcb467f-9f95-4aae-b7dd-715a4bb21e4d"
      },
      "execution_count": null,
      "outputs": [
        {
          "output_type": "stream",
          "name": "stdout",
          "text": [
            "float64\n"
          ]
        },
        {
          "output_type": "execute_result",
          "data": {
            "text/plain": [
              "array([[0.76324958, 0.23096662, 0.77504757, 0.79478568],\n",
              "       [0.52187963, 0.85369506, 0.6152377 , 0.37671067],\n",
              "       [0.273345  , 0.28980482, 0.04526833, 0.8255391 ]])"
            ]
          },
          "metadata": {},
          "execution_count": 45
        }
      ]
    },
    {
      "cell_type": "code",
      "source": [
        "a_tf = tf.random.uniform(shape = (3,4), minval =0., maxval = 1.)\n",
        "a_tf"
      ],
      "metadata": {
        "colab": {
          "base_uri": "https://localhost:8080/"
        },
        "id": "B2vqqft_QDcp",
        "outputId": "a5d78ba8-8217-4d0c-eadf-50420be9cf26"
      },
      "execution_count": null,
      "outputs": [
        {
          "output_type": "execute_result",
          "data": {
            "text/plain": [
              "<tf.Tensor: shape=(3, 4), dtype=float32, numpy=\n",
              "array([[0.94594944, 0.30062687, 0.9695028 , 0.4040258 ],\n",
              "       [0.6521095 , 0.18838477, 0.40089703, 0.24992824],\n",
              "       [0.6556233 , 0.14316332, 0.37664104, 0.78637433]], dtype=float32)>"
            ]
          },
          "metadata": {},
          "execution_count": 46
        }
      ]
    },
    {
      "cell_type": "code",
      "source": [
        "a_torch = torch.rand(3,4)\n",
        "print(a_torch.dtype)\n",
        "a_torch"
      ],
      "metadata": {
        "colab": {
          "base_uri": "https://localhost:8080/"
        },
        "id": "tBRoHcknQSAm",
        "outputId": "9e6fb6dd-e4f3-4009-9a40-b11a12853e24"
      },
      "execution_count": null,
      "outputs": [
        {
          "output_type": "stream",
          "name": "stdout",
          "text": [
            "torch.float32\n"
          ]
        },
        {
          "output_type": "execute_result",
          "data": {
            "text/plain": [
              "tensor([[0.2629, 0.8924, 0.3981, 0.5881],\n",
              "        [0.4294, 0.1817, 0.0276, 0.3449],\n",
              "        [0.1011, 0.2900, 0.9910, 0.4782]])"
            ]
          },
          "metadata": {},
          "execution_count": 47
        }
      ]
    },
    {
      "cell_type": "code",
      "source": [
        "a = np.random.randn(3,4)\n",
        "print(a.shape)\n",
        "print(np.mean(a), np.std(a))\n",
        "a"
      ],
      "metadata": {
        "colab": {
          "base_uri": "https://localhost:8080/"
        },
        "id": "5CxS-HVQQfc0",
        "outputId": "1d85e7e1-c2ed-4ee1-903e-d1c34311ef66"
      },
      "execution_count": null,
      "outputs": [
        {
          "output_type": "stream",
          "name": "stdout",
          "text": [
            "(3, 4)\n",
            "-0.39094999158703253 0.9461433490159392\n"
          ]
        },
        {
          "output_type": "execute_result",
          "data": {
            "text/plain": [
              "array([[-0.75748857,  0.14686536,  0.69822254,  0.17632216],\n",
              "       [ 1.34489329,  0.33682223, -1.56761431, -0.95046947],\n",
              "       [-0.05523562, -1.00440559, -2.02352675, -1.03578516]])"
            ]
          },
          "metadata": {},
          "execution_count": 48
        }
      ]
    },
    {
      "cell_type": "code",
      "source": [
        "a_tf = tf.random.normal(shape = (3,4), mean = 0, stddev = 1.0)\n",
        "print(a_tf.shape)\n",
        "print(tf.math.reduce_mean(a_tf), tf.math.reduce_std(a_tf))\n",
        "a_tf"
      ],
      "metadata": {
        "colab": {
          "base_uri": "https://localhost:8080/"
        },
        "id": "k-xboUnzQq6d",
        "outputId": "f3ae9df6-7a61-43eb-f3b9-e1ba36b266e1"
      },
      "execution_count": null,
      "outputs": [
        {
          "output_type": "stream",
          "name": "stdout",
          "text": [
            "(3, 4)\n",
            "tf.Tensor(0.35313776, shape=(), dtype=float32) tf.Tensor(1.2470443, shape=(), dtype=float32)\n"
          ]
        },
        {
          "output_type": "execute_result",
          "data": {
            "text/plain": [
              "<tf.Tensor: shape=(3, 4), dtype=float32, numpy=\n",
              "array([[-0.370913  ,  1.4525361 ,  2.6304553 , -0.5394712 ],\n",
              "       [-0.04402696, -0.5386813 ,  1.5687238 , -0.7645214 ],\n",
              "       [-2.038817  ,  1.0158861 ,  0.46850085,  1.3979818 ]],\n",
              "      dtype=float32)>"
            ]
          },
          "metadata": {},
          "execution_count": 49
        }
      ]
    },
    {
      "cell_type": "code",
      "source": [
        "a_torch = torch.randn(3,4)\n",
        "print(a_torch.dtype)\n",
        "print(torch.mean(a_torch), torch.std(a_torch))\n",
        "a_torch"
      ],
      "metadata": {
        "colab": {
          "base_uri": "https://localhost:8080/"
        },
        "id": "QkaZWMpGRBs6",
        "outputId": "87c457f4-0b21-4f33-9da0-7f3438b9656f"
      },
      "execution_count": null,
      "outputs": [
        {
          "output_type": "stream",
          "name": "stdout",
          "text": [
            "torch.float32\n",
            "tensor(-0.4062) tensor(1.0262)\n"
          ]
        },
        {
          "output_type": "execute_result",
          "data": {
            "text/plain": [
              "tensor([[-1.2141,  1.8756, -1.0496, -1.2371],\n",
              "        [-1.0595, -0.7463, -0.3387, -0.6214],\n",
              "        [ 0.1948,  0.0052, -1.6623,  0.9791]])"
            ]
          },
          "metadata": {},
          "execution_count": 50
        }
      ]
    }
  ]
}