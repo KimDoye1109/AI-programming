{
  "nbformat": 4,
  "nbformat_minor": 0,
  "metadata": {
    "colab": {
      "provenance": [],
      "gpuType": "T4",
      "authorship_tag": "ABX9TyOObAku2vKmbGUcEHykHimM",
      "include_colab_link": true
    },
    "kernelspec": {
      "name": "python3",
      "display_name": "Python 3"
    },
    "language_info": {
      "name": "python"
    },
    "accelerator": "GPU"
  },
  "cells": [
    {
      "cell_type": "markdown",
      "metadata": {
        "id": "view-in-github",
        "colab_type": "text"
      },
      "source": [
        "<a href=\"https://colab.research.google.com/github/KimDoye1109/AI-programming/blob/main/week4_%EC%A0%95%EB%A6%AC.ipynb\" target=\"_parent\"><img src=\"https://colab.research.google.com/assets/colab-badge.svg\" alt=\"Open In Colab\"/></a>"
      ]
    },
    {
      "cell_type": "code",
      "execution_count": null,
      "metadata": {
        "id": "S1ZUcWdhe4BS"
      },
      "outputs": [],
      "source": [
        "import numpy as np\n",
        "import torch\n",
        "import tensorflow as tf"
      ]
    },
    {
      "cell_type": "markdown",
      "source": [
        "# Tensor: Transpose and Permute\n",
        "https://ds31x.tistory.com/217\n",
        "- transpose: 행과 열을 바꾸는 처리, 축들 중 2개의 서로의 위치를 바꾸는 것.\n",
        "\n",
        "  (numpy와 pytorch의 경우, 축 변경이 있어도 데이터 공유 방식 사용)\n"
      ],
      "metadata": {
        "id": "_9IciCo1fRCF"
      }
    },
    {
      "cell_type": "code",
      "source": [
        "# 먼저 numpy와 pytorch의 경우 데이터 공유를 하는가\n",
        "a_torch = torch.tensor([1,2,3,4])\n",
        "b_np = a_torch.numpy()\n",
        "print(b_np)\n",
        "a_torch[2] = 77\n",
        "print(b_np)\n",
        "print(a_torch)"
      ],
      "metadata": {
        "colab": {
          "base_uri": "https://localhost:8080/"
        },
        "id": "NxBxFT4OfGDP",
        "outputId": "6579db08-0668-4835-80d7-c5d2264894ad"
      },
      "execution_count": null,
      "outputs": [
        {
          "output_type": "stream",
          "name": "stdout",
          "text": [
            "[1 2 3 4]\n",
            "[ 1  2 77  4]\n",
            "tensor([ 1,  2, 77,  4])\n"
          ]
        }
      ]
    },
    {
      "cell_type": "code",
      "source": [
        "#Numpy\n",
        "a = np.random.rand(3,2)\n",
        "t1 = np.transpose(a)\n",
        "t2 = a.T\n",
        "\n",
        "for i in (a, t1, t2):\n",
        "  print(i.shape)\n",
        "\n",
        "t2[0,1] =77\n",
        "\n",
        "print(a[1,0])\n",
        "print(t1[0,1])\n",
        "print(t2[0,1])"
      ],
      "metadata": {
        "colab": {
          "base_uri": "https://localhost:8080/"
        },
        "id": "Fb6ynFkkgNsZ",
        "outputId": "3a55a600-3e2a-4999-a113-8bbe7984b940"
      },
      "execution_count": null,
      "outputs": [
        {
          "output_type": "stream",
          "name": "stdout",
          "text": [
            "(3, 2)\n",
            "(2, 3)\n",
            "(2, 3)\n",
            "77.0\n",
            "77.0\n",
            "77.0\n"
          ]
        }
      ]
    },
    {
      "cell_type": "code",
      "source": [
        "#torch\n",
        "#transpose를 수행하면, contiguous tensor는 더 이상 contiguous가 아님.\n",
        "a_torch = torch.rand(2,3)\n",
        "print(a_torch.is_contiguous())\n",
        "t1_torch = torch.transpose(a_torch,0,1)\n",
        "t2_torch = a_torch.T\n",
        "\n",
        "for i in (a, t1_torch, t2_torch):\n",
        "  print(i.shape)\n",
        "\n",
        "t2_torch[0,1] = 77\n",
        "print(a_torch[1,0])\n",
        "print(t1_torch[0,1])\n",
        "print(t2_torch[1,0])\n",
        "\n",
        "print(t1_torch.is_contiguous())"
      ],
      "metadata": {
        "colab": {
          "base_uri": "https://localhost:8080/"
        },
        "id": "f3R_YTRQgo05",
        "outputId": "4db976ce-5c9f-4690-93eb-502bf642b845"
      },
      "execution_count": null,
      "outputs": [
        {
          "output_type": "stream",
          "name": "stdout",
          "text": [
            "True\n",
            "(3, 2)\n",
            "torch.Size([3, 2])\n",
            "torch.Size([3, 2])\n",
            "tensor(77.)\n",
            "tensor(77.)\n",
            "tensor(0.7857)\n",
            "False\n"
          ]
        }
      ]
    },
    {
      "cell_type": "code",
      "source": [
        "#tensorflow\n",
        "a_tf = tf.random.normal([2,3])\n",
        "t1_tf = tf.transpose(a_tf)\n",
        "t2_tf = tf.transpose(a_tf, perm = [1,0])\n",
        "for i in (a_tf,t1_tf, t2_tf):\n",
        "  print(i.shape, i.dtype)\n",
        "\n",
        "indices = tf.constant([[0,1]])\n",
        "updates = tf.constant([77], dtype =tf. float32)\n",
        "t2_tf = tf.tensor_scatter_nd_update(t2_tf, indices,updates)\n",
        "print(a_tf[1,0])\n",
        "print(t1_tf[0,1])\n",
        "print(t2_tf[0,1])"
      ],
      "metadata": {
        "colab": {
          "base_uri": "https://localhost:8080/"
        },
        "id": "miPpCuiadG-G",
        "outputId": "9656f46c-bf77-4ff9-b551-18dcf796bcb8"
      },
      "execution_count": null,
      "outputs": [
        {
          "output_type": "stream",
          "name": "stdout",
          "text": [
            "(2, 3) <dtype: 'float32'>\n",
            "(3, 2) <dtype: 'float32'>\n",
            "(3, 2) <dtype: 'float32'>\n",
            "tf.Tensor(-0.37696996, shape=(), dtype=float32)\n",
            "tf.Tensor(-0.37696996, shape=(), dtype=float32)\n",
            "tf.Tensor(77.0, shape=(), dtype=float32)\n"
          ]
        }
      ]
    },
    {
      "cell_type": "markdown",
      "source": [
        "# permute(축의 위치를 변경)\n",
        "  transpose와 다른 점은 임의의 수의 축들을 임의의 순서로 자유롭게 변경할 수 있음\n",
        "  numpy와 tensorflow에서는 transpose를 통해 permute를 구현."
      ],
      "metadata": {
        "id": "g6AUbQMKgFLO"
      }
    },
    {
      "cell_type": "code",
      "source": [
        "#Numpy\n",
        "a = np.random.rand(2,3,4)\n",
        "t1 = np.transpose(a,(0,2,1))\n",
        "\n",
        "print(a.shape)\n",
        "print(t1.shape)\n",
        "t1[0,1,2] = 77\n",
        "print(a[0,2,1])\n",
        "print(t1[0,1,2])"
      ],
      "metadata": {
        "colab": {
          "base_uri": "https://localhost:8080/"
        },
        "id": "XXTCNglwgBCs",
        "outputId": "dc0d3623-714f-494f-c7a4-f528fc395f57"
      },
      "execution_count": null,
      "outputs": [
        {
          "output_type": "stream",
          "name": "stdout",
          "text": [
            "(2, 3, 4)\n",
            "(2, 4, 3)\n",
            "77.0\n",
            "77.0\n"
          ]
        }
      ]
    },
    {
      "cell_type": "code",
      "source": [
        "a_torch = torch.rand(2,3,4)\n",
        "t1_torch = torch.permute(a_torch,(0,2,1)) #transpose는 2차원만 적용가능\n",
        "\n",
        "print(a_torch.shape)\n",
        "print(t1_torch.shape)\n",
        "\n",
        "t1_torch[0,1,2] = 77\n",
        "print(a_torch [0,2,1])\n",
        "print(t1_torch[0,1,2])"
      ],
      "metadata": {
        "colab": {
          "base_uri": "https://localhost:8080/"
        },
        "id": "1R0zbotatFyG",
        "outputId": "c89cbd11-6adc-4050-f707-8fc3c6918b55"
      },
      "execution_count": null,
      "outputs": [
        {
          "output_type": "stream",
          "name": "stdout",
          "text": [
            "torch.Size([2, 3, 4])\n",
            "torch.Size([2, 4, 3])\n",
            "tensor(77.)\n",
            "tensor(77.)\n"
          ]
        }
      ]
    },
    {
      "cell_type": "code",
      "source": [
        "#tensorflow\n",
        "a_tf = tf.random.normal([2,3,4])\n",
        "t1_tf = tf.transpose(a_tf, perm = [0,2,1])\n",
        "print(a_tf.shape)\n",
        "print(t1_tf.shape)\n",
        "\n",
        "#tensorflow는 index변형이 꽤 까다로운"
      ],
      "metadata": {
        "colab": {
          "base_uri": "https://localhost:8080/"
        },
        "id": "_Mlp09aatfjb",
        "outputId": "3e238fa4-ba05-4760-8832-3bcb3ea805d8"
      },
      "execution_count": null,
      "outputs": [
        {
          "output_type": "stream",
          "name": "stdout",
          "text": [
            "(2, 3, 4)\n",
            "(2, 4, 3)\n"
          ]
        }
      ]
    },
    {
      "cell_type": "markdown",
      "source": [
        "# 여기서는 GPU로 변경!\n",
        "https://dsaint31.me/mkdocs_site/CE/colab/gpu/\n",
        "\n",
        "이게 좀 더 상세\n",
        "https://gist.github.com/dsaint31x/ad7181dbb1b8c12c2db8b9454cfa0ddb\n",
        "\n"
      ],
      "metadata": {
        "id": "3KBYQ2s3vGTD"
      }
    },
    {
      "cell_type": "code",
      "source": [
        "import torch\n",
        "\n",
        "print(torch.cuda.is_available())\n",
        "print(torch.cuda.device_count())\n",
        "print(torch.cuda.current_device())\n",
        "print(torch.cuda.get_device_name(0))"
      ],
      "metadata": {
        "colab": {
          "base_uri": "https://localhost:8080/"
        },
        "id": "rrlyJkwMupPD",
        "outputId": "909c9016-dfec-47f1-df61-a1ddf3359d8c"
      },
      "execution_count": null,
      "outputs": [
        {
          "output_type": "stream",
          "name": "stdout",
          "text": [
            "True\n",
            "1\n",
            "0\n",
            "Tesla T4\n"
          ]
        }
      ]
    },
    {
      "cell_type": "code",
      "source": [
        "print('사용가능한 GPU가 있는가?',torch.cuda.is_available())"
      ],
      "metadata": {
        "colab": {
          "base_uri": "https://localhost:8080/"
        },
        "id": "SJJOScelvgrx",
        "outputId": "5953db4c-93d3-4972-a939-000a59076587"
      },
      "execution_count": null,
      "outputs": [
        {
          "output_type": "stream",
          "name": "stdout",
          "text": [
            "사용가능한 GPU가 있는가? True\n"
          ]
        }
      ]
    },
    {
      "cell_type": "code",
      "source": [
        "print('사용가능한 GPU가 몇 개인가?',torch.cuda.device_count())"
      ],
      "metadata": {
        "colab": {
          "base_uri": "https://localhost:8080/"
        },
        "id": "I7kKCD-wwA6Q",
        "outputId": "15f27b10-0439-4253-d36f-12ff71c0c33b"
      },
      "execution_count": null,
      "outputs": [
        {
          "output_type": "stream",
          "name": "stdout",
          "text": [
            "사용가능한 GPU가 몇 개인가? 1\n"
          ]
        }
      ]
    },
    {
      "cell_type": "code",
      "source": [
        "if torch.cuda.is_available():\n",
        "  print('현재 사용중인 GPU의 index는?', torch.cuda.current_device())\n",
        "else:\n",
        "  print('GPU가 사용불가합니다.')"
      ],
      "metadata": {
        "colab": {
          "base_uri": "https://localhost:8080/"
        },
        "id": "y_HQfJNcwIK2",
        "outputId": "560c59f7-5e09-4b4b-aca5-ab3b7a52b1d6"
      },
      "execution_count": null,
      "outputs": [
        {
          "output_type": "stream",
          "name": "stdout",
          "text": [
            "현재 사용중인 GPU의 index는? 0\n"
          ]
        }
      ]
    },
    {
      "cell_type": "code",
      "source": [
        "if torch.cuda.is_available():\n",
        "  print(torch.cuda.get_device_name(0))\n",
        "else:\n",
        "  print('GPU가 사용불가합니다.')"
      ],
      "metadata": {
        "colab": {
          "base_uri": "https://localhost:8080/"
        },
        "id": "Wk5loW9CwRFi",
        "outputId": "b73fde8e-75d5-4fb1-bf8a-c72a00881619"
      },
      "execution_count": null,
      "outputs": [
        {
          "output_type": "stream",
          "name": "stdout",
          "text": [
            "Tesla T4\n"
          ]
        }
      ]
    },
    {
      "cell_type": "code",
      "source": [
        " a = torch.tensor([1,2,3])\n",
        " print(a.device)"
      ],
      "metadata": {
        "colab": {
          "base_uri": "https://localhost:8080/"
        },
        "id": "alvjUZPrw_PL",
        "outputId": "39c326a9-e2ad-4f9f-9628-14b9cfa64d7f"
      },
      "execution_count": null,
      "outputs": [
        {
          "output_type": "stream",
          "name": "stdout",
          "text": [
            "cpu\n"
          ]
        }
      ]
    },
    {
      "cell_type": "code",
      "source": [
        "b = a.cpu()\n",
        "print(b.is_cpu)"
      ],
      "metadata": {
        "colab": {
          "base_uri": "https://localhost:8080/"
        },
        "id": "PZ271Q16xNIu",
        "outputId": "06ba4aef-a27f-4769-fe8e-38bfc69b8b3b"
      },
      "execution_count": null,
      "outputs": [
        {
          "output_type": "stream",
          "name": "stdout",
          "text": [
            "True\n"
          ]
        }
      ]
    },
    {
      "cell_type": "code",
      "source": [
        "c = a.to(device = 'cuda:0')\n",
        "print(c.is_cuda)"
      ],
      "metadata": {
        "colab": {
          "base_uri": "https://localhost:8080/"
        },
        "id": "JPnlrZKgxRVo",
        "outputId": "4496db5f-4100-4723-d9aa-4680f78044f8"
      },
      "execution_count": null,
      "outputs": [
        {
          "output_type": "stream",
          "name": "stdout",
          "text": [
            "True\n"
          ]
        }
      ]
    },
    {
      "cell_type": "code",
      "source": [
        "for i in (a,b,c):\n",
        "  print(i.dtype, i)"
      ],
      "metadata": {
        "colab": {
          "base_uri": "https://localhost:8080/"
        },
        "id": "wRgbjmLMxVEb",
        "outputId": "269530e2-51e3-4664-a3e3-7465e5affada"
      },
      "execution_count": null,
      "outputs": [
        {
          "output_type": "stream",
          "name": "stdout",
          "text": [
            "torch.int64 tensor([1, 2, 3])\n",
            "torch.int64 tensor([1, 2, 3])\n",
            "torch.int64 tensor([1, 2, 3], device='cuda:0')\n"
          ]
        }
      ]
    },
    {
      "cell_type": "code",
      "source": [
        "b[1] = 999\n",
        "for i in (a,b,c):\n",
        "  print(i)"
      ],
      "metadata": {
        "id": "Rk6mUxn3xdS_",
        "colab": {
          "base_uri": "https://localhost:8080/"
        },
        "outputId": "0116a1bc-96a7-4f32-887a-616600a54bb7"
      },
      "execution_count": null,
      "outputs": [
        {
          "output_type": "stream",
          "name": "stdout",
          "text": [
            "tensor([  1, 999,   3])\n",
            "tensor([  1, 999,   3])\n",
            "tensor([1, 2, 3], device='cuda:0')\n"
          ]
        }
      ]
    },
    {
      "cell_type": "code",
      "source": [
        "for i in (a,b,c):\n",
        "  print(i.untyped_storage().data_ptr())"
      ],
      "metadata": {
        "colab": {
          "base_uri": "https://localhost:8080/"
        },
        "id": "W85TfMU7ymhS",
        "outputId": "201047e9-d2ff-432c-f921-bd4283ab4fee"
      },
      "execution_count": null,
      "outputs": [
        {
          "output_type": "stream",
          "name": "stdout",
          "text": [
            "94605023101440\n",
            "94605023101440\n",
            "140456092499968\n"
          ]
        }
      ]
    },
    {
      "cell_type": "code",
      "source": [
        "d = a.cuda()\n",
        "print(d.is_cuda)"
      ],
      "metadata": {
        "colab": {
          "base_uri": "https://localhost:8080/"
        },
        "id": "rPKNN2kFyxg6",
        "outputId": "b1e835c7-d929-45e2-d6ab-1ade57f09ed1"
      },
      "execution_count": null,
      "outputs": [
        {
          "output_type": "stream",
          "name": "stdout",
          "text": [
            "True\n"
          ]
        }
      ]
    },
    {
      "cell_type": "code",
      "source": [
        "for i in (a,b,c,d):\n",
        "  print(i)"
      ],
      "metadata": {
        "colab": {
          "base_uri": "https://localhost:8080/"
        },
        "id": "un4jAcE0y1ie",
        "outputId": "738e8439-7fb6-4a1a-fcd8-1ba69f29256f"
      },
      "execution_count": null,
      "outputs": [
        {
          "output_type": "stream",
          "name": "stdout",
          "text": [
            "tensor([  1, 999,   3])\n",
            "tensor([  1, 999,   3])\n",
            "tensor([1, 2, 3], device='cuda:0')\n",
            "tensor([  1, 999,   3], device='cuda:0')\n"
          ]
        }
      ]
    },
    {
      "cell_type": "code",
      "source": [
        "d[1] = 777\n",
        "for i in (a,b,c,d):\n",
        "  print(i)"
      ],
      "metadata": {
        "colab": {
          "base_uri": "https://localhost:8080/"
        },
        "id": "zCd6LlGRy5aH",
        "outputId": "c1982b8d-b59c-4ca4-d302-ce3c75360ff2"
      },
      "execution_count": null,
      "outputs": [
        {
          "output_type": "stream",
          "name": "stdout",
          "text": [
            "tensor([  1, 999,   3])\n",
            "tensor([  1, 999,   3])\n",
            "tensor([1, 2, 3], device='cuda:0')\n",
            "tensor([  1, 777,   3], device='cuda:0')\n"
          ]
        }
      ]
    },
    {
      "cell_type": "code",
      "source": [
        "b = a.to('cpu',torch.float)\n",
        "for i in (a, b, c):\n",
        "  print(id(i), i)"
      ],
      "metadata": {
        "colab": {
          "base_uri": "https://localhost:8080/"
        },
        "id": "VAGNUWI7y-9U",
        "outputId": "78c4fbeb-378a-4717-9022-d6419aeebdf8"
      },
      "execution_count": null,
      "outputs": [
        {
          "output_type": "stream",
          "name": "stdout",
          "text": [
            "140456827446800 tensor([  1, 999,   3])\n",
            "140456827450000 tensor([  1., 999.,   3.])\n",
            "140456942134160 tensor([1, 2, 3], device='cuda:0')\n"
          ]
        }
      ]
    },
    {
      "cell_type": "code",
      "source": [
        "b[1] = 4\n",
        "for i in (a,b,c):\n",
        "  print(i)"
      ],
      "metadata": {
        "colab": {
          "base_uri": "https://localhost:8080/"
        },
        "id": "2lYWpMrezJIO",
        "outputId": "912c057b-9400-4d85-9c57-88fd1012811c"
      },
      "execution_count": null,
      "outputs": [
        {
          "output_type": "stream",
          "name": "stdout",
          "text": [
            "tensor([  1, 999,   3])\n",
            "tensor([1., 4., 3.])\n",
            "tensor([1, 2, 3], device='cuda:0')\n"
          ]
        }
      ]
    },
    {
      "cell_type": "markdown",
      "source": [
        "#Storage: PyTorch 텐서를 위한 메모리 관리\n",
        ">https://ds31x.tistory.com/224\n",
        "\n",
        "storage는 pytorch에서 tensor의 동작 및 저장 방식을 이해하기 위해 사용할 수 있음\n",
        "\n",
        "tensor 인스턴스의 실제 데이터가 저장되는 numerical array를 관리.\n",
        "\n",
        "storage는 contiguous block를 관리\n",
        "\n",
        "(tensor인스턴스들은 자신의 storage 인스턴스를 통해 data block을 관리함.)\n",
        "\n",
        "memory에서 homogeneous and contiguous array 특징상 1D임.\n",
        "\n",
        "tensor 인스턴스들은 고유한 shape, stride, offset을 가진 일종의 view에 해당"
      ],
      "metadata": {
        "id": "OZHVKCo2zcnZ"
      }
    },
    {
      "cell_type": "code",
      "source": [
        "import torch\n",
        "x = torch.randn(3,3)\n",
        "x_storage = x.storage() #memory를 가르키는 위치를 반환하는 method\n",
        "print(x.storage)"
      ],
      "metadata": {
        "id": "SHcQ3tc1zPoK",
        "colab": {
          "base_uri": "https://localhost:8080/"
        },
        "outputId": "ff753361-be12-48e3-d1a3-4ff2d1a1d864"
      },
      "execution_count": null,
      "outputs": [
        {
          "output_type": "stream",
          "name": "stdout",
          "text": [
            "<bound method Tensor.storage of tensor([[ 0.7839, -0.4982,  0.2872],\n",
            "        [ 1.2063,  1.3929, -0.0248],\n",
            "        [ 0.0422, -0.1006, -0.3232]])>\n"
          ]
        },
        {
          "output_type": "stream",
          "name": "stderr",
          "text": [
            "<ipython-input-25-06a10f0d44e8>:3: UserWarning: TypedStorage is deprecated. It will be removed in the future and UntypedStorage will be the only storage class. This should only matter to you if you are using storages directly.  To access UntypedStorage directly, use tensor.untyped_storage() instead of tensor.storage()\n",
            "  x_storage = x.storage() #memory를 가르키는 위치를 반환하는 method\n"
          ]
        }
      ]
    },
    {
      "cell_type": "code",
      "source": [
        "import torch\n",
        "\n",
        "a = torch.tensor([range(i,i+3) for i in [0,3,6]])\n",
        "a_sub = a[1:,0]\n",
        "\n",
        "print(a.is_contiguous(), a_sub.is_contiguous())\n",
        "\n",
        "print(a.storage().data_ptr() == a_sub.storage().data_ptr())\n",
        "\n",
        "print(id(a.storage()) == id(a_sub.storage()))\n",
        "\n",
        "print(f\"{a.shape=}, {a.size()=}, {a.stride()=}, {a.storage_offset()=}\")\n",
        "print(f\"{a_sub.shape=}, {a_sub.size()=}, {a_sub.stride()=}, {a_sub.storage_offset()=}\")"
      ],
      "metadata": {
        "id": "y_orL72sSUeH",
        "colab": {
          "base_uri": "https://localhost:8080/"
        },
        "outputId": "8b199ffa-ca31-4c12-ff0d-7f2121894a61"
      },
      "execution_count": null,
      "outputs": [
        {
          "output_type": "stream",
          "name": "stdout",
          "text": [
            "True False\n",
            "True\n",
            "True\n",
            "a.shape=torch.Size([3, 3]), a.size()=torch.Size([3, 3]), a.stride()=(3, 1), a.storage_offset()=0\n",
            "a_sub.shape=torch.Size([2]), a_sub.size()=torch.Size([2]), a_sub.stride()=(3,), a_sub.storage_offset()=3\n"
          ]
        }
      ]
    },
    {
      "cell_type": "markdown",
      "source": [
        "stride: 각 축에서 index가 증가할 때 건너뛰어야하는 객체의 수를 의미\n",
        "(CNN에서 stride 수와 차원은 반비례)\n",
        "\n",
        "storage_offset: 인스턴스가 storage가 관리하는 memory block에서 몇 번째 객체에서 시작하는지를 나타냄.\n"
      ],
      "metadata": {
        "id": "fmo9bC5lhSR4"
      }
    },
    {
      "cell_type": "markdown",
      "source": [
        "# view와 reshape에서의 underlying data 공유여부\n",
        "pytorch에서 view나 reshape 메서드를 통해 변경가능\n",
        "view: 인스턴스가 contiguous한 경우에만 사용가능\n",
        "reshape: contiguous instance의 경우 view와 같음, contiguous한 경우 view와 같지만 아닌경우 contiguous하게 만들고 view를 수행.\n",
        "\n",
        "# Transpose와 Permute에서의 underlying data 공유 여부\n",
        "transpose와 permute는 underlying data 공유, but 이로 얻어진 인스턴스는 contiguous는 깨짐\n",
        "\n"
      ],
      "metadata": {
        "id": "5dclskCcilCT"
      }
    },
    {
      "cell_type": "markdown",
      "source": [
        "#pytorch: Autograd(Basic)\n",
        ">https://ds31x.tistory.com/227\n",
        "\n",
        "x.requires_grad: forward propagation에서 중간값 및 연산을 추적하여 기록할지 여부 나타냄\n",
        "\n",
        "x.is_leaf: leaf node인지 여부를 나타냄, 어떤 것에 대한 생성되지 않은 tensor(내가 만듬)\n",
        "\n",
        "x.grad: .backward()연산으로부터 계산된 gradient가 저장됨\n",
        " - requires_grad = True일 때, .backward()가 호출될 때 자동으로 gradient 계산하여 x.grad에 저장\n",
        " - 만약 x가 scalar가 아닌 경우, .backward() 호출 시 gradient의 shape를 지정하는 argument를 전달해야함.\n",
        "\n",
        "    (.backward()를 호출하는 tensor와 같은 shape 이며 각 요소로 scalar 1을 가지는 tensor 인스턴스가 주로 argument로 사용됨.)\n",
        "\n"
      ],
      "metadata": {
        "id": "9lUZTiQ3nZnt"
      }
    },
    {
      "cell_type": "code",
      "source": [
        "x = torch.tensor([2.0], requires_grad=True)"
      ],
      "metadata": {
        "id": "lK4xLrBJiNG1"
      },
      "execution_count": null,
      "outputs": []
    },
    {
      "cell_type": "code",
      "source": [
        "a = 2*x +10\n",
        "b = 3*a\n",
        "b.retain_grad()\n",
        "c = 2*b"
      ],
      "metadata": {
        "id": "eyuoYianpjU6"
      },
      "execution_count": null,
      "outputs": []
    },
    {
      "cell_type": "markdown",
      "source": [
        "leaf node가 아닌 tensor인스턴스에 대해 gradient를 구하고 싶으면 해당 tensor 인스턴스 메서드 .retain_grad()를 .backward()호출 전에 호출하면 됨\n",
        "\n",
        "이렇게 되면 tensor 인스턴의 gradient를 유지하게 됨\n"
      ],
      "metadata": {
        "id": "JsHReQSrtXHK"
      }
    },
    {
      "cell_type": "code",
      "source": [],
      "metadata": {
        "id": "DNgruEcepjdi"
      },
      "execution_count": null,
      "outputs": []
    },
    {
      "cell_type": "markdown",
      "source": [
        "적절한 위치에 x.grad.zero_()를 호출, gradient 초기화"
      ],
      "metadata": {
        "id": "iqLNsN1ap5nC"
      }
    },
    {
      "cell_type": "code",
      "source": [],
      "metadata": {
        "id": "U0LCLL5NqC1V"
      },
      "execution_count": null,
      "outputs": []
    },
    {
      "cell_type": "markdown",
      "source": [
        "#PyTorch: view, data, and detach\n",
        "> https://ds31x.tistory.com/226\n",
        "\n",
        "tensor.view():tensor 인스턴스의 dimension을 수정하는데 사용, 원본의 인스턴스와 memory 공유 => tensor의 shape와 각 축의 stride만 바뀜. 텐서의 모양변\n",
        "tensor.data(detach)\n",
        "tensor 인스턴스의 데이터를 의미하는 attribute.\n",
        "- 메타데이터를 가지고 있지 않는 순수한 데이터를 의미\n",
        "detach: 계산 그래프에서 텐서를 분리하여 gradient 계산에서 제외, but 데이터 공유\n"
      ],
      "metadata": {
        "id": "VDiMe9SNuynO"
      }
    },
    {
      "cell_type": "code",
      "source": [
        "!pip install torchviz"
      ],
      "metadata": {
        "colab": {
          "base_uri": "https://localhost:8080/"
        },
        "id": "UxAt80C3wpZ8",
        "outputId": "9c271fd9-1899-42d4-f33c-c1e7e0049472"
      },
      "execution_count": null,
      "outputs": [
        {
          "output_type": "stream",
          "name": "stdout",
          "text": [
            "Collecting torchviz\n",
            "  Downloading torchviz-0.0.2.tar.gz (4.9 kB)\n",
            "  Preparing metadata (setup.py) ... \u001b[?25l\u001b[?25hdone\n",
            "Requirement already satisfied: torch in /usr/local/lib/python3.10/dist-packages (from torchviz) (2.2.1+cu121)\n",
            "Requirement already satisfied: graphviz in /usr/local/lib/python3.10/dist-packages (from torchviz) (0.20.3)\n",
            "Requirement already satisfied: filelock in /usr/local/lib/python3.10/dist-packages (from torch->torchviz) (3.13.3)\n",
            "Requirement already satisfied: typing-extensions>=4.8.0 in /usr/local/lib/python3.10/dist-packages (from torch->torchviz) (4.10.0)\n",
            "Requirement already satisfied: sympy in /usr/local/lib/python3.10/dist-packages (from torch->torchviz) (1.12)\n",
            "Requirement already satisfied: networkx in /usr/local/lib/python3.10/dist-packages (from torch->torchviz) (3.2.1)\n",
            "Requirement already satisfied: jinja2 in /usr/local/lib/python3.10/dist-packages (from torch->torchviz) (3.1.3)\n",
            "Requirement already satisfied: fsspec in /usr/local/lib/python3.10/dist-packages (from torch->torchviz) (2023.6.0)\n",
            "Collecting nvidia-cuda-nvrtc-cu12==12.1.105 (from torch->torchviz)\n",
            "  Downloading nvidia_cuda_nvrtc_cu12-12.1.105-py3-none-manylinux1_x86_64.whl (23.7 MB)\n",
            "\u001b[2K     \u001b[90m━━━━━━━━━━━━━━━━━━━━━━━━━━━━━━━━━━━━━━━━\u001b[0m \u001b[32m23.7/23.7 MB\u001b[0m \u001b[31m17.5 MB/s\u001b[0m eta \u001b[36m0:00:00\u001b[0m\n",
            "\u001b[?25hCollecting nvidia-cuda-runtime-cu12==12.1.105 (from torch->torchviz)\n",
            "  Downloading nvidia_cuda_runtime_cu12-12.1.105-py3-none-manylinux1_x86_64.whl (823 kB)\n",
            "\u001b[2K     \u001b[90m━━━━━━━━━━━━━━━━━━━━━━━━━━━━━━━━━━━━━━━━\u001b[0m \u001b[32m823.6/823.6 kB\u001b[0m \u001b[31m22.9 MB/s\u001b[0m eta \u001b[36m0:00:00\u001b[0m\n",
            "\u001b[?25hCollecting nvidia-cuda-cupti-cu12==12.1.105 (from torch->torchviz)\n",
            "  Downloading nvidia_cuda_cupti_cu12-12.1.105-py3-none-manylinux1_x86_64.whl (14.1 MB)\n",
            "\u001b[2K     \u001b[90m━━━━━━━━━━━━━━━━━━━━━━━━━━━━━━━━━━━━━━━━\u001b[0m \u001b[32m14.1/14.1 MB\u001b[0m \u001b[31m15.7 MB/s\u001b[0m eta \u001b[36m0:00:00\u001b[0m\n",
            "\u001b[?25hCollecting nvidia-cudnn-cu12==8.9.2.26 (from torch->torchviz)\n",
            "  Downloading nvidia_cudnn_cu12-8.9.2.26-py3-none-manylinux1_x86_64.whl (731.7 MB)\n",
            "\u001b[2K     \u001b[90m━━━━━━━━━━━━━━━━━━━━━━━━━━━━━━━━━━━━━━━━\u001b[0m \u001b[32m731.7/731.7 MB\u001b[0m \u001b[31m1.1 MB/s\u001b[0m eta \u001b[36m0:00:00\u001b[0m\n",
            "\u001b[?25hCollecting nvidia-cublas-cu12==12.1.3.1 (from torch->torchviz)\n",
            "  Downloading nvidia_cublas_cu12-12.1.3.1-py3-none-manylinux1_x86_64.whl (410.6 MB)\n",
            "\u001b[2K     \u001b[90m━━━━━━━━━━━━━━━━━━━━━━━━━━━━━━━━━━━━━━━━\u001b[0m \u001b[32m410.6/410.6 MB\u001b[0m \u001b[31m1.8 MB/s\u001b[0m eta \u001b[36m0:00:00\u001b[0m\n",
            "\u001b[?25hCollecting nvidia-cufft-cu12==11.0.2.54 (from torch->torchviz)\n",
            "  Downloading nvidia_cufft_cu12-11.0.2.54-py3-none-manylinux1_x86_64.whl (121.6 MB)\n",
            "\u001b[2K     \u001b[90m━━━━━━━━━━━━━━━━━━━━━━━━━━━━━━━━━━━━━━━━\u001b[0m \u001b[32m121.6/121.6 MB\u001b[0m \u001b[31m3.4 MB/s\u001b[0m eta \u001b[36m0:00:00\u001b[0m\n",
            "\u001b[?25hCollecting nvidia-curand-cu12==10.3.2.106 (from torch->torchviz)\n",
            "  Downloading nvidia_curand_cu12-10.3.2.106-py3-none-manylinux1_x86_64.whl (56.5 MB)\n",
            "\u001b[2K     \u001b[90m━━━━━━━━━━━━━━━━━━━━━━━━━━━━━━━━━━━━━━━━\u001b[0m \u001b[32m56.5/56.5 MB\u001b[0m \u001b[31m4.3 MB/s\u001b[0m eta \u001b[36m0:00:00\u001b[0m\n",
            "\u001b[?25hCollecting nvidia-cusolver-cu12==11.4.5.107 (from torch->torchviz)\n",
            "  Downloading nvidia_cusolver_cu12-11.4.5.107-py3-none-manylinux1_x86_64.whl (124.2 MB)\n",
            "\u001b[2K     \u001b[90m━━━━━━━━━━━━━━━━━━━━━━━━━━━━━━━━━━━━━━━━\u001b[0m \u001b[32m124.2/124.2 MB\u001b[0m \u001b[31m1.9 MB/s\u001b[0m eta \u001b[36m0:00:00\u001b[0m\n",
            "\u001b[?25hCollecting nvidia-cusparse-cu12==12.1.0.106 (from torch->torchviz)\n",
            "  Downloading nvidia_cusparse_cu12-12.1.0.106-py3-none-manylinux1_x86_64.whl (196.0 MB)\n",
            "\u001b[2K     \u001b[90m━━━━━━━━━━━━━━━━━━━━━━━━━━━━━━━━━━━━━━━━\u001b[0m \u001b[32m196.0/196.0 MB\u001b[0m \u001b[31m1.9 MB/s\u001b[0m eta \u001b[36m0:00:00\u001b[0m\n",
            "\u001b[?25hCollecting nvidia-nccl-cu12==2.19.3 (from torch->torchviz)\n",
            "  Downloading nvidia_nccl_cu12-2.19.3-py3-none-manylinux1_x86_64.whl (166.0 MB)\n",
            "\u001b[2K     \u001b[90m━━━━━━━━━━━━━━━━━━━━━━━━━━━━━━━━━━━━━━━━\u001b[0m \u001b[32m166.0/166.0 MB\u001b[0m \u001b[31m2.3 MB/s\u001b[0m eta \u001b[36m0:00:00\u001b[0m\n",
            "\u001b[?25hCollecting nvidia-nvtx-cu12==12.1.105 (from torch->torchviz)\n",
            "  Downloading nvidia_nvtx_cu12-12.1.105-py3-none-manylinux1_x86_64.whl (99 kB)\n",
            "\u001b[2K     \u001b[90m━━━━━━━━━━━━━━━━━━━━━━━━━━━━━━━━━━━━━━━━\u001b[0m \u001b[32m99.1/99.1 kB\u001b[0m \u001b[31m4.0 MB/s\u001b[0m eta \u001b[36m0:00:00\u001b[0m\n",
            "\u001b[?25hRequirement already satisfied: triton==2.2.0 in /usr/local/lib/python3.10/dist-packages (from torch->torchviz) (2.2.0)\n",
            "Collecting nvidia-nvjitlink-cu12 (from nvidia-cusolver-cu12==11.4.5.107->torch->torchviz)\n",
            "  Downloading nvidia_nvjitlink_cu12-12.4.127-py3-none-manylinux2014_x86_64.whl (21.1 MB)\n",
            "\u001b[2K     \u001b[90m━━━━━━━━━━━━━━━━━━━━━━━━━━━━━━━━━━━━━━━━\u001b[0m \u001b[32m21.1/21.1 MB\u001b[0m \u001b[31m4.4 MB/s\u001b[0m eta \u001b[36m0:00:00\u001b[0m\n",
            "\u001b[?25hRequirement already satisfied: MarkupSafe>=2.0 in /usr/local/lib/python3.10/dist-packages (from jinja2->torch->torchviz) (2.1.5)\n",
            "Requirement already satisfied: mpmath>=0.19 in /usr/local/lib/python3.10/dist-packages (from sympy->torch->torchviz) (1.3.0)\n",
            "Building wheels for collected packages: torchviz\n",
            "  Building wheel for torchviz (setup.py) ... \u001b[?25l\u001b[?25hdone\n",
            "  Created wheel for torchviz: filename=torchviz-0.0.2-py3-none-any.whl size=4132 sha256=6a7d4aa4793446f91d345222f267d6abf6dc711b48f263a20c0cefcbe12e6e1a\n",
            "  Stored in directory: /root/.cache/pip/wheels/4c/97/88/a02973217949e0db0c9f4346d154085f4725f99c4f15a87094\n",
            "Successfully built torchviz\n",
            "Installing collected packages: nvidia-nvtx-cu12, nvidia-nvjitlink-cu12, nvidia-nccl-cu12, nvidia-curand-cu12, nvidia-cufft-cu12, nvidia-cuda-runtime-cu12, nvidia-cuda-nvrtc-cu12, nvidia-cuda-cupti-cu12, nvidia-cublas-cu12, nvidia-cusparse-cu12, nvidia-cudnn-cu12, nvidia-cusolver-cu12, torchviz\n",
            "Successfully installed nvidia-cublas-cu12-12.1.3.1 nvidia-cuda-cupti-cu12-12.1.105 nvidia-cuda-nvrtc-cu12-12.1.105 nvidia-cuda-runtime-cu12-12.1.105 nvidia-cudnn-cu12-8.9.2.26 nvidia-cufft-cu12-11.0.2.54 nvidia-curand-cu12-10.3.2.106 nvidia-cusolver-cu12-11.4.5.107 nvidia-cusparse-cu12-12.1.0.106 nvidia-nccl-cu12-2.19.3 nvidia-nvjitlink-cu12-12.4.127 nvidia-nvtx-cu12-12.1.105 torchviz-0.0.2\n"
          ]
        }
      ]
    },
    {
      "cell_type": "code",
      "source": [
        "import numpy as np\n",
        "import torch\n",
        "from IPython.display import display\n",
        "import torchviz"
      ],
      "metadata": {
        "id": "8dsUhXoUwZr2"
      },
      "execution_count": null,
      "outputs": []
    },
    {
      "cell_type": "code",
      "source": [
        "for c in [np,torch]:\n",
        "  print(c.__name__,c.__version__)"
      ],
      "metadata": {
        "colab": {
          "base_uri": "https://localhost:8080/"
        },
        "id": "4WueWK3owwuJ",
        "outputId": "0802aed4-5fda-4cf1-f34b-152df2dafab2"
      },
      "execution_count": null,
      "outputs": [
        {
          "output_type": "stream",
          "name": "stdout",
          "text": [
            "numpy 1.25.2\n",
            "torch 2.2.1+cu121\n"
          ]
        }
      ]
    },
    {
      "cell_type": "code",
      "source": [
        "x_np = np.arange(-1,1,0.5)\n",
        "x = torch.tensor(x_np,dtype= torch.float32)\n",
        "x.requires_grad = True\n",
        "\n",
        "display(x)"
      ],
      "metadata": {
        "colab": {
          "base_uri": "https://localhost:8080/",
          "height": 35
        },
        "id": "DoGALCrKw41X",
        "outputId": "d2c09172-dac3-4401-89ab-30487304bb5a"
      },
      "execution_count": null,
      "outputs": [
        {
          "output_type": "display_data",
          "data": {
            "text/plain": [
              "tensor([-1.0000, -0.5000,  0.0000,  0.5000], requires_grad=True)"
            ]
          },
          "metadata": {}
        }
      ]
    },
    {
      "cell_type": "code",
      "source": [
        "y = 3 *x +10\n",
        "display(y)"
      ],
      "metadata": {
        "colab": {
          "base_uri": "https://localhost:8080/",
          "height": 35
        },
        "id": "58KhhJqKxNFX",
        "outputId": "0abbc46b-0993-4cdd-b2fd-3a2d6a3fbb7a"
      },
      "execution_count": null,
      "outputs": [
        {
          "output_type": "display_data",
          "data": {
            "text/plain": [
              "tensor([ 7.0000,  8.5000, 10.0000, 11.5000], grad_fn=<AddBackward0>)"
            ]
          },
          "metadata": {}
        }
      ]
    },
    {
      "cell_type": "code",
      "source": [
        "import matplotlib.pyplot as plt\n",
        "plt.plot(x.detach().numpy(), y.detach().numpy())"
      ],
      "metadata": {
        "colab": {
          "base_uri": "https://localhost:8080/",
          "height": 448
        },
        "id": "WE_9HCW6xQ_O",
        "outputId": "06573bca-0f0a-41c8-a0b0-180e306bad84"
      },
      "execution_count": null,
      "outputs": [
        {
          "output_type": "execute_result",
          "data": {
            "text/plain": [
              "[<matplotlib.lines.Line2D at 0x7fbe730ff820>]"
            ]
          },
          "metadata": {},
          "execution_count": 38
        },
        {
          "output_type": "display_data",
          "data": {
            "text/plain": [
              "<Figure size 640x480 with 1 Axes>"
            ],
            "image/png": "[encoded data removed]"
          },
          "metadata": {}
        }
      ]
    },
    {
      "cell_type": "code",
      "source": [
        "y.backward(torch.ones_like(y))\n",
        "display(x.grad)"
      ],
      "metadata": {
        "colab": {
          "base_uri": "https://localhost:8080/",
          "height": 35
        },
        "id": "DwOcn4Jmxi-j",
        "outputId": "69bba13e-c95f-40fa-b88e-5b30e7db10d7"
      },
      "execution_count": null,
      "outputs": [
        {
          "output_type": "display_data",
          "data": {
            "text/plain": [
              "tensor([3., 3., 3., 3.])"
            ]
          },
          "metadata": {}
        }
      ]
    },
    {
      "cell_type": "code",
      "source": [
        "cg = torchviz.make_dot(y, params = {\"input\":x, \"output\":y})\n",
        "\n",
        "cg.render(\"graph\",view = True)\n",
        "display(cg)"
      ],
      "metadata": {
        "colab": {
          "base_uri": "https://localhost:8080/",
          "height": 379
        },
        "id": "Xw8G0peSxtgc",
        "outputId": "43f2ba92-338e-4ba5-c650-28fab0d3edc6"
      },
      "execution_count": null,
      "outputs": [
        {
          "output_type": "display_data",
          "data": {
            "image/svg+xml": "<?xml version=\"1.0\" encoding=\"UTF-8\" standalone=\"no\"?>\n<!DOCTYPE svg PUBLIC \"-//W3C//DTD SVG 1.1//EN\"\n \"http://www.w3.org/Graphics/SVG/1.1/DTD/svg11.dtd\">\n<!-- Generated by graphviz version 2.43.0 (0)\n -->\n<!-- Title: %3 Pages: 1 -->\n<svg width=\"109pt\" height=\"269pt\"\n viewBox=\"0.00 0.00 109.00 269.00\" xmlns=\"http://www.w3.org/2000/svg\" xmlns:xlink=\"http://www.w3.org/1999/xlink\">\n<g id=\"graph0\" class=\"graph\" transform=\"scale(1 1) rotate(0) translate(4 265)\">\n<title>%3</title>\n<polygon fill=\"white\" stroke=\"transparent\" points=\"-4,4 -4,-265 105,-265 105,4 -4,4\"/>\n<!-- 140455952407008 -->\n<g id=\"node1\" class=\"node\">\n<title>140455952407008</title>\n<polygon fill=\"#caff70\" stroke=\"black\" points=\"77.5,-30 23.5,-30 23.5,0 77.5,0 77.5,-30\"/>\n<text text-anchor=\"middle\" x=\"50.5\" y=\"-18\" font-family=\"monospace\" font-size=\"10.00\">output</text>\n<text text-anchor=\"middle\" x=\"50.5\" y=\"-7\" font-family=\"monospace\" font-size=\"10.00\"> (4)</text>\n</g>\n<!-- 140455893677152 -->\n<g id=\"node2\" class=\"node\">\n<title>140455893677152</title>\n<polygon fill=\"lightgrey\" stroke=\"black\" points=\"95,-85 6,-85 6,-66 95,-66 95,-85\"/>\n<text text-anchor=\"middle\" x=\"50.5\" y=\"-73\" font-family=\"monospace\" font-size=\"10.00\">AddBackward0</text>\n</g>\n<!-- 140455893677152&#45;&gt;140455952407008 -->\n<g id=\"edge4\" class=\"edge\">\n<title>140455893677152&#45;&gt;140455952407008</title>\n<path fill=\"none\" stroke=\"black\" d=\"M50.5,-65.87C50.5,-59.11 50.5,-49.35 50.5,-40.26\"/>\n<polygon fill=\"black\" stroke=\"black\" points=\"54,-40.11 50.5,-30.11 47,-40.11 54,-40.11\"/>\n</g>\n<!-- 140455893676480 -->\n<g id=\"node3\" class=\"node\">\n<title>140455893676480</title>\n<polygon fill=\"lightgrey\" stroke=\"black\" points=\"95,-140 6,-140 6,-121 95,-121 95,-140\"/>\n<text text-anchor=\"middle\" x=\"50.5\" y=\"-128\" font-family=\"monospace\" font-size=\"10.00\">MulBackward0</text>\n</g>\n<!-- 140455893676480&#45;&gt;140455893677152 -->\n<g id=\"edge1\" class=\"edge\">\n<title>140455893676480&#45;&gt;140455893677152</title>\n<path fill=\"none\" stroke=\"black\" d=\"M50.5,-120.75C50.5,-113.8 50.5,-103.85 50.5,-95.13\"/>\n<polygon fill=\"black\" stroke=\"black\" points=\"54,-95.09 50.5,-85.09 47,-95.09 54,-95.09\"/>\n</g>\n<!-- 140455893664144 -->\n<g id=\"node4\" class=\"node\">\n<title>140455893664144</title>\n<polygon fill=\"lightgrey\" stroke=\"black\" points=\"101,-195 0,-195 0,-176 101,-176 101,-195\"/>\n<text text-anchor=\"middle\" x=\"50.5\" y=\"-183\" font-family=\"monospace\" font-size=\"10.00\">AccumulateGrad</text>\n</g>\n<!-- 140455893664144&#45;&gt;140455893676480 -->\n<g id=\"edge2\" class=\"edge\">\n<title>140455893664144&#45;&gt;140455893676480</title>\n<path fill=\"none\" stroke=\"black\" d=\"M50.5,-175.75C50.5,-168.8 50.5,-158.85 50.5,-150.13\"/>\n<polygon fill=\"black\" stroke=\"black\" points=\"54,-150.09 50.5,-140.09 47,-150.09 54,-150.09\"/>\n</g>\n<!-- 140455950680528 -->\n<g id=\"node5\" class=\"node\">\n<title>140455950680528</title>\n<polygon fill=\"lightblue\" stroke=\"black\" points=\"77.5,-261 23.5,-261 23.5,-231 77.5,-231 77.5,-261\"/>\n<text text-anchor=\"middle\" x=\"50.5\" y=\"-249\" font-family=\"monospace\" font-size=\"10.00\">input</text>\n<text text-anchor=\"middle\" x=\"50.5\" y=\"-238\" font-family=\"monospace\" font-size=\"10.00\"> (4)</text>\n</g>\n<!-- 140455950680528&#45;&gt;140455893664144 -->\n<g id=\"edge3\" class=\"edge\">\n<title>140455950680528&#45;&gt;140455893664144</title>\n<path fill=\"none\" stroke=\"black\" d=\"M50.5,-230.84C50.5,-223.21 50.5,-213.7 50.5,-205.45\"/>\n<polygon fill=\"black\" stroke=\"black\" points=\"54,-205.27 50.5,-195.27 47,-205.27 54,-205.27\"/>\n</g>\n</g>\n</svg>\n",
            "text/plain": [
              "<graphviz.graphs.Digraph at 0x7fbe6fa63430>"
            ]
          },
          "metadata": {}
        }
      ]
    },
    {
      "cell_type": "code",
      "source": [
        "y2 = 2*x\n",
        "y2.backward(torch.ones_like(y2))\n",
        "\n",
        "display(x.grad)"
      ],
      "metadata": {
        "colab": {
          "base_uri": "https://localhost:8080/",
          "height": 35
        },
        "id": "SXaU_sRdx9UI",
        "outputId": "4850b2c5-8413-45c9-b76c-7775da59db84"
      },
      "execution_count": null,
      "outputs": [
        {
          "output_type": "display_data",
          "data": {
            "text/plain": [
              "tensor([5., 5., 5., 5.])"
            ]
          },
          "metadata": {}
        }
      ]
    },
    {
      "cell_type": "code",
      "source": [
        "cg = torchviz.make_dot(y2)\n",
        "display(cg)"
      ],
      "metadata": {
        "colab": {
          "base_uri": "https://localhost:8080/",
          "height": 308
        },
        "id": "J9J0tBMHyKze",
        "outputId": "367269d4-625e-437d-b469-7077ba12f186"
      },
      "execution_count": null,
      "outputs": [
        {
          "output_type": "display_data",
          "data": {
            "image/svg+xml": "<?xml version=\"1.0\" encoding=\"UTF-8\" standalone=\"no\"?>\n<!DOCTYPE svg PUBLIC \"-//W3C//DTD SVG 1.1//EN\"\n \"http://www.w3.org/Graphics/SVG/1.1/DTD/svg11.dtd\">\n<!-- Generated by graphviz version 2.43.0 (0)\n -->\n<!-- Title: %3 Pages: 1 -->\n<svg width=\"109pt\" height=\"216pt\"\n viewBox=\"0.00 0.00 109.00 216.00\" xmlns=\"http://www.w3.org/2000/svg\" xmlns:xlink=\"http://www.w3.org/1999/xlink\">\n<g id=\"graph0\" class=\"graph\" transform=\"scale(1 1) rotate(0) translate(4 212)\">\n<title>%3</title>\n<polygon fill=\"white\" stroke=\"transparent\" points=\"-4,4 -4,-212 105,-212 105,4 -4,4\"/>\n<!-- 140455898124176 -->\n<g id=\"node1\" class=\"node\">\n<title>140455898124176</title>\n<polygon fill=\"#caff70\" stroke=\"black\" points=\"77.5,-31 23.5,-31 23.5,0 77.5,0 77.5,-31\"/>\n<text text-anchor=\"middle\" x=\"50.5\" y=\"-7\" font-family=\"monospace\" font-size=\"10.00\"> (4)</text>\n</g>\n<!-- 140455893672544 -->\n<g id=\"node2\" class=\"node\">\n<title>140455893672544</title>\n<polygon fill=\"lightgrey\" stroke=\"black\" points=\"95,-86 6,-86 6,-67 95,-67 95,-86\"/>\n<text text-anchor=\"middle\" x=\"50.5\" y=\"-74\" font-family=\"monospace\" font-size=\"10.00\">MulBackward0</text>\n</g>\n<!-- 140455893672544&#45;&gt;140455898124176 -->\n<g id=\"edge3\" class=\"edge\">\n<title>140455893672544&#45;&gt;140455898124176</title>\n<path fill=\"none\" stroke=\"black\" d=\"M50.5,-66.79C50.5,-60.07 50.5,-50.4 50.5,-41.34\"/>\n<polygon fill=\"black\" stroke=\"black\" points=\"54,-41.19 50.5,-31.19 47,-41.19 54,-41.19\"/>\n</g>\n<!-- 140455893664144 -->\n<g id=\"node3\" class=\"node\">\n<title>140455893664144</title>\n<polygon fill=\"lightgrey\" stroke=\"black\" points=\"101,-141 0,-141 0,-122 101,-122 101,-141\"/>\n<text text-anchor=\"middle\" x=\"50.5\" y=\"-129\" font-family=\"monospace\" font-size=\"10.00\">AccumulateGrad</text>\n</g>\n<!-- 140455893664144&#45;&gt;140455893672544 -->\n<g id=\"edge1\" class=\"edge\">\n<title>140455893664144&#45;&gt;140455893672544</title>\n<path fill=\"none\" stroke=\"black\" d=\"M50.5,-121.75C50.5,-114.8 50.5,-104.85 50.5,-96.13\"/>\n<polygon fill=\"black\" stroke=\"black\" points=\"54,-96.09 50.5,-86.09 47,-96.09 54,-96.09\"/>\n</g>\n<!-- 140455950680528 -->\n<g id=\"node4\" class=\"node\">\n<title>140455950680528</title>\n<polygon fill=\"lightblue\" stroke=\"black\" points=\"77.5,-208 23.5,-208 23.5,-177 77.5,-177 77.5,-208\"/>\n<text text-anchor=\"middle\" x=\"50.5\" y=\"-184\" font-family=\"monospace\" font-size=\"10.00\"> (4)</text>\n</g>\n<!-- 140455950680528&#45;&gt;140455893664144 -->\n<g id=\"edge2\" class=\"edge\">\n<title>140455950680528&#45;&gt;140455893664144</title>\n<path fill=\"none\" stroke=\"black\" d=\"M50.5,-176.92C50.5,-169.22 50.5,-159.69 50.5,-151.43\"/>\n<polygon fill=\"black\" stroke=\"black\" points=\"54,-151.25 50.5,-141.25 47,-151.25 54,-151.25\"/>\n</g>\n</g>\n</svg>\n",
            "text/plain": [
              "<graphviz.graphs.Digraph at 0x7fbe6fa61930>"
            ]
          },
          "metadata": {}
        }
      ]
    },
    {
      "cell_type": "code",
      "source": [
        "x = torch.tensor([2.0], requires_grad = True)"
      ],
      "metadata": {
        "id": "Y_g-rLSa3LWS"
      },
      "execution_count": null,
      "outputs": []
    },
    {
      "cell_type": "code",
      "source": [
        "x.requires_grad"
      ],
      "metadata": {
        "id": "WKNKuLlx3Lxg",
        "outputId": "7b1ec472-7c50-40c1-b0cb-db2218dfc692",
        "colab": {
          "base_uri": "https://localhost:8080/"
        }
      },
      "execution_count": null,
      "outputs": [
        {
          "output_type": "execute_result",
          "data": {
            "text/plain": [
              "True"
            ]
          },
          "metadata": {},
          "execution_count": 44
        }
      ]
    },
    {
      "cell_type": "code",
      "source": [
        "def print_ten(x):\n",
        "  print(f'{x.requires_grad =}\\n{x.is_leaf=}\\n {x.grad_fn=}\\n{x.grad =}')\n",
        "print_ten(x)"
      ],
      "metadata": {
        "id": "l1WHr6lH3NPb",
        "outputId": "1ceb7c1b-4678-40d7-9340-3035845ed9eb",
        "colab": {
          "base_uri": "https://localhost:8080/"
        }
      },
      "execution_count": null,
      "outputs": [
        {
          "output_type": "stream",
          "name": "stdout",
          "text": [
            "x.requires_grad =True\n",
            "x.is_leaf=True\n",
            " x.grad_fn=None\n",
            "x.grad =None\n"
          ]
        }
      ]
    },
    {
      "cell_type": "code",
      "source": [
        "a = 2*x + 10\n",
        "a.retain_grad()\n",
        "b = 3*a\n",
        "b.retain_grad()\n",
        "c= 2*b\n",
        "c.retain_grad()\n",
        "\n",
        "i = torch.sum(c)\n",
        "display(x)\n",
        "display(i)"
      ],
      "metadata": {
        "id": "_twyEvyl3OFx",
        "outputId": "f6fc26e2-3365-498b-9c57-ad48c45badcd",
        "colab": {
          "base_uri": "https://localhost:8080/",
          "height": 53
        }
      },
      "execution_count": null,
      "outputs": [
        {
          "output_type": "display_data",
          "data": {
            "text/plain": [
              "tensor([2.], requires_grad=True)"
            ]
          },
          "metadata": {}
        },
        {
          "output_type": "display_data",
          "data": {
            "text/plain": [
              "tensor(84., grad_fn=<SumBackward0>)"
            ]
          },
          "metadata": {}
        }
      ]
    }
  ]
}