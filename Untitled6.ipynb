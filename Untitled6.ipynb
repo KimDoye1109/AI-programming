{
  "nbformat": 4,
  "nbformat_minor": 0,
  "metadata": {
    "colab": {
      "provenance": [],
      "authorship_tag": "ABX9TyMT9UeWravTtn8kUlmXBJ20",
      "include_colab_link": true
    },
    "kernelspec": {
      "name": "python3",
      "display_name": "Python 3"
    },
    "language_info": {
      "name": "python"
    }
  },
  "cells": [
    {
      "cell_type": "markdown",
      "metadata": {
        "id": "view-in-github",
        "colab_type": "text"
      },
      "source": [
        "<a href=\"https://colab.research.google.com/github/KimDoye1109/AI-programming/blob/main/Untitled6.ipynb\" target=\"_parent\"><img src=\"https://colab.research.google.com/assets/colab-badge.svg\" alt=\"Open In Colab\"/></a>"
      ]
    },
    {
      "cell_type": "code",
      "execution_count": null,
      "metadata": {
        "id": "m_1seEUSQDLg"
      },
      "outputs": [],
      "source": []
    },
    {
      "cell_type": "markdown",
      "source": [
        "# week 2"
      ],
      "metadata": {
        "id": "eevTztwxg88I"
      }
    },
    {
      "cell_type": "code",
      "execution_count": null,
      "metadata": {
        "id": "r-CcVdPjeAko"
      },
      "outputs": [],
      "source": [
        "import numpy as np\n",
        "import tensorflow as tf\n",
        "import torch"
      ]
    },
    {
      "cell_type": "code",
      "source": [
        "for c in (np,tf, torch):\n",
        "  print(c.__name__, c.__version__)"
      ],
      "metadata": {
        "colab": {
          "base_uri": "https://localhost:8080/"
        },
        "id": "GWZO1n0Yhlar",
        "outputId": "10fa69a6-c762-4a34-b975-40eb7fc7c4e7"
      },
      "execution_count": null,
      "outputs": [
        {
          "output_type": "stream",
          "name": "stdout",
          "text": [
            "numpy 1.25.2\n",
            "tensorflow 2.15.0\n",
            "torch 2.2.1+cu121\n"
          ]
        }
      ]
    },
    {
      "cell_type": "markdown",
      "source": [
        "## tensoer 관련 객체의 attribute & tensor 간의 변환"
      ],
      "metadata": {
        "id": "r2EdwrdZhA29"
      }
    },
    {
      "cell_type": "code",
      "source": [
        "a = (1,2,3,4,5)\n",
        "a_np = np.array(a)\n",
        "a_tf = tf.constant(a)\n",
        "a_torch = torch.tensor(a)\n",
        "\n",
        "for i in (a_np, a_tf, a_torch):\n",
        "  print(i)"
      ],
      "metadata": {
        "colab": {
          "base_uri": "https://localhost:8080/"
        },
        "id": "H2KBSZLShVzv",
        "outputId": "5a8ca343-e7b0-4138-c856-bb049a8fc222"
      },
      "execution_count": null,
      "outputs": [
        {
          "output_type": "stream",
          "name": "stdout",
          "text": [
            "[1 2 3 4 5]\n",
            "tf.Tensor([1 2 3 4 5], shape=(5,), dtype=int32)\n",
            "tensor([1, 2, 3, 4, 5])\n"
          ]
        }
      ]
    },
    {
      "cell_type": "code",
      "source": [
        "print(a_np.shape)\n",
        "print(a_np.ndim)\n",
        "print(a_np.itemsize)\n",
        "print(a_np.size)\n",
        "print(a_np.dtype)\n",
        "\n",
        "b_np = a_tf.numpy()\n",
        "c_np = a_torch.numpy()\n",
        "print(b_np, c_np)"
      ],
      "metadata": {
        "colab": {
          "base_uri": "https://localhost:8080/"
        },
        "id": "E0utGHQ2hhqK",
        "outputId": "d8adff27-56d3-4aee-f30a-e987c4bd3db0"
      },
      "execution_count": null,
      "outputs": [
        {
          "output_type": "stream",
          "name": "stdout",
          "text": [
            "(5,)\n",
            "1\n",
            "8\n",
            "5\n",
            "int64\n",
            "[1 2 3 4 5] [1 2 3 4 5]\n"
          ]
        }
      ]
    },
    {
      "cell_type": "code",
      "source": [
        "print(a_torch.ndim)\n",
        "print(a_torch.size())\n",
        "print(a_torch.dtype)\n",
        "print(a_torch.shape)\n",
        "print(a_torch.itemsize)\n",
        "\n",
        "b_torch = torch.tensor(a_np)\n",
        "c_torch = torch.tensor(b_np)\n",
        "print(b_torch, c_torch)\n",
        "\n",
        "e_torch = torch.from_numpy(a_np)\n",
        "print(e_torch)"
      ],
      "metadata": {
        "colab": {
          "base_uri": "https://localhost:8080/"
        },
        "id": "kwJ7F_OJiMsY",
        "outputId": "504dd2b2-d448-49f2-a1ea-90a3e9a30272"
      },
      "execution_count": null,
      "outputs": [
        {
          "output_type": "stream",
          "name": "stdout",
          "text": [
            "1\n",
            "torch.Size([5])\n",
            "torch.int64\n",
            "torch.Size([5])\n",
            "8\n",
            "tensor([77,  3, 99,  5]) tensor([1, 2, 3, 4, 5], dtype=torch.int32)\n",
            "tensor([77,  3, 99,  5])\n"
          ]
        }
      ]
    },
    {
      "cell_type": "code",
      "source": [
        "\n",
        "print(a_tf.ndim)\n",
        "print(tf.rank(a_tf))\n",
        "print(tf.Variable(a_tf))\n",
        "print(a_tf.shape)\n",
        "print(a_tf.dtype)\n",
        "\n",
        "b_tf = tf.constant(a_np)\n",
        "c_tf = tf.constant(a_torch)\n",
        "print(b_tf, c_tf)\n",
        "\n",
        "d_tf = tf.convert_to_tensor(a_np)\n",
        "e_tf = tf.convert_to_tensor(a_torch)\n",
        "print(d_tf, e_tf)"
      ],
      "metadata": {
        "colab": {
          "base_uri": "https://localhost:8080/"
        },
        "id": "epZv1yNgihKI",
        "outputId": "ae17f410-ee35-459a-d138-864ee9486d37"
      },
      "execution_count": null,
      "outputs": [
        {
          "output_type": "stream",
          "name": "stdout",
          "text": [
            "1\n",
            "tf.Tensor(1, shape=(), dtype=int32)\n",
            "<tf.Variable 'Variable:0' shape=(5,) dtype=int32, numpy=array([1, 2, 3, 4, 5], dtype=int32)>\n",
            "(5,)\n",
            "<dtype: 'int32'>\n",
            "tf.Tensor([77  3 99  5], shape=(4,), dtype=int64) tf.Tensor([1 2 3 4 5], shape=(5,), dtype=int64)\n",
            "tf.Tensor([77  3 99  5], shape=(4,), dtype=int64) tf.Tensor([1 2 3 4 5], shape=(5,), dtype=int64)\n"
          ]
        }
      ]
    },
    {
      "cell_type": "code",
      "source": [
        "a = (2,3,4,5)\n",
        "p = torch.tensor(a)\n",
        "a_np = p.numpy()\n",
        "print(a_np)\n",
        "\n",
        "a_np[0] = 77\n",
        "print(a_np, p)\n",
        "\n",
        "p [2] = 99\n",
        "print(a_np, p)"
      ],
      "metadata": {
        "colab": {
          "base_uri": "https://localhost:8080/"
        },
        "id": "hgIFVL6eiw9e",
        "outputId": "28a2e7b9-57dc-4112-9833-9d80b71f2d53"
      },
      "execution_count": null,
      "outputs": [
        {
          "output_type": "stream",
          "name": "stdout",
          "text": [
            "[2 3 4 5]\n",
            "[77  3  4  5] tensor([77,  3,  4,  5])\n",
            "[77  3 99  5] tensor([77,  3, 99,  5])\n"
          ]
        }
      ]
    },
    {
      "cell_type": "code",
      "source": [
        "p_2 = p.numpy().copy()\n",
        "p_2[0] = 99\n",
        "print(p_2, p)"
      ],
      "metadata": {
        "colab": {
          "base_uri": "https://localhost:8080/"
        },
        "id": "W_gx86dJlRBS",
        "outputId": "37b71754-2c8c-4583-bbd5-bd4a48f1a087"
      },
      "execution_count": null,
      "outputs": [
        {
          "output_type": "stream",
          "name": "stdout",
          "text": [
            "[99  3 99  5] tensor([77,  3, 99,  5])\n"
          ]
        }
      ]
    },
    {
      "cell_type": "markdown",
      "source": [
        "## tensor를 특정값으로 초기화하기\n"
      ],
      "metadata": {
        "id": "Gn4c7RdbpsA8"
      }
    },
    {
      "cell_type": "code",
      "source": [
        "a = np.ones((3,2))\n",
        "a2 = np.zeros((3,2))\n",
        "a3 = np.full((3,2),515)\n",
        "for z in (a,a2,a3):\n",
        "  print(z)\n",
        "\n",
        "d = np.full_like(a, 44)\n",
        "d"
      ],
      "metadata": {
        "colab": {
          "base_uri": "https://localhost:8080/"
        },
        "id": "q68HszdznlSO",
        "outputId": "6bda11fd-2770-45c0-fe8b-c5c7facc6c9b"
      },
      "execution_count": null,
      "outputs": [
        {
          "output_type": "stream",
          "name": "stdout",
          "text": [
            "[[1. 1.]\n",
            " [1. 1.]\n",
            " [1. 1.]]\n",
            "[[0. 0.]\n",
            " [0. 0.]\n",
            " [0. 0.]]\n",
            "[[515 515]\n",
            " [515 515]\n",
            " [515 515]]\n"
          ]
        },
        {
          "output_type": "execute_result",
          "data": {
            "text/plain": [
              "array([[44., 44.],\n",
              "       [44., 44.],\n",
              "       [44., 44.]])"
            ]
          },
          "metadata": {},
          "execution_count": 48
        }
      ]
    },
    {
      "cell_type": "code",
      "source": [
        "b = torch.ones(size = (3,2))\n",
        "b2 = torch.zeros((3,2))\n",
        "b3 = torch.full((3,2),515)\n",
        "for z in (b,b2,b3):\n",
        "  print(z)\n",
        "\n",
        "e = torch.full_like(b, 44)\n",
        "e"
      ],
      "metadata": {
        "colab": {
          "base_uri": "https://localhost:8080/"
        },
        "id": "3Szr-OAtp6jM",
        "outputId": "cd15717a-a008-4060-a6b0-9449dff3738a"
      },
      "execution_count": null,
      "outputs": [
        {
          "output_type": "stream",
          "name": "stdout",
          "text": [
            "tensor([[1., 1.],\n",
            "        [1., 1.],\n",
            "        [1., 1.]])\n",
            "tensor([[0., 0.],\n",
            "        [0., 0.],\n",
            "        [0., 0.]])\n",
            "tensor([[515, 515],\n",
            "        [515, 515],\n",
            "        [515, 515]])\n"
          ]
        },
        {
          "output_type": "execute_result",
          "data": {
            "text/plain": [
              "tensor([[44., 44.],\n",
              "        [44., 44.],\n",
              "        [44., 44.]])"
            ]
          },
          "metadata": {},
          "execution_count": 54
        }
      ]
    },
    {
      "cell_type": "code",
      "source": [
        "c = tf.ones(shape = (3,2))\n",
        "c2 = tf.zeros((3,2))\n",
        "c3 = tf.fill((3,2),515)\n",
        "for z in (c,c2,c3):\n",
        "  print(z)\n",
        "\n",
        "f = tf.fill(c.shape, 44)\n",
        "f"
      ],
      "metadata": {
        "colab": {
          "base_uri": "https://localhost:8080/"
        },
        "id": "n4tOy49YqkuK",
        "outputId": "a4f30e35-8695-4351-8cef-aeaf2828476a"
      },
      "execution_count": null,
      "outputs": [
        {
          "output_type": "stream",
          "name": "stdout",
          "text": [
            "tf.Tensor(\n",
            "[[1. 1.]\n",
            " [1. 1.]\n",
            " [1. 1.]], shape=(3, 2), dtype=float32)\n",
            "tf.Tensor(\n",
            "[[0. 0.]\n",
            " [0. 0.]\n",
            " [0. 0.]], shape=(3, 2), dtype=float32)\n",
            "tf.Tensor(\n",
            "[[515 515]\n",
            " [515 515]\n",
            " [515 515]], shape=(3, 2), dtype=int32)\n"
          ]
        },
        {
          "output_type": "execute_result",
          "data": {
            "text/plain": [
              "<tf.Tensor: shape=(3, 2), dtype=int32, numpy=\n",
              "array([[44, 44],\n",
              "       [44, 44],\n",
              "       [44, 44]], dtype=int32)>"
            ]
          },
          "metadata": {},
          "execution_count": 56
        }
      ]
    },
    {
      "cell_type": "markdown",
      "source": [
        "## 기타 다른 tensor 생성 방법\n",
        "eye, linspace, empty(tf지원 x) 다같음"
      ],
      "metadata": {
        "id": "WQoV0tYwsV0r"
      }
    },
    {
      "cell_type": "code",
      "source": [
        "print(range(0,10,1))\n",
        "\n",
        "print(np.arange(0,1,0.1))\n",
        "a = np.arange(0,24,2).reshape(3,4)\n",
        "print(a)\n",
        "\n",
        "b = tf.constant(tf.range(0,24,2), shape=(3,4))\n",
        "print(b)\n",
        "\n",
        "c = torch.arange(0,24,2).reshape(3,4)\n",
        "print(c)"
      ],
      "metadata": {
        "colab": {
          "base_uri": "https://localhost:8080/"
        },
        "id": "hhNNpgisqwNL",
        "outputId": "9aa7b1ab-8627-4668-e33f-a5f40766310c"
      },
      "execution_count": null,
      "outputs": [
        {
          "output_type": "stream",
          "name": "stdout",
          "text": [
            "range(0, 10)\n",
            "[0.  0.1 0.2 0.3 0.4 0.5 0.6 0.7 0.8 0.9]\n",
            "[[ 0  2  4  6]\n",
            " [ 8 10 12 14]\n",
            " [16 18 20 22]]\n",
            "tf.Tensor(\n",
            "[[ 0  2  4  6]\n",
            " [ 8 10 12 14]\n",
            " [16 18 20 22]], shape=(3, 4), dtype=int32)\n",
            "tensor([[ 0,  2,  4,  6],\n",
            "        [ 8, 10, 12, 14],\n",
            "        [16, 18, 20, 22]])\n"
          ]
        }
      ]
    },
    {
      "cell_type": "markdown",
      "source": [
        "## 난수로 구성된 tensor"
      ],
      "metadata": {
        "id": "kngvjdLVwHNj"
      }
    },
    {
      "cell_type": "code",
      "source": [
        "a = np.random.randn((5))\n",
        "print(a)\n",
        "a = torch.rand((5))\n",
        "print(a)\n",
        "a = tf.random.uniform(shape =(5,), minval = 0, maxval = 1)\n",
        "print(a)"
      ],
      "metadata": {
        "colab": {
          "base_uri": "https://localhost:8080/"
        },
        "id": "60wdM_k1wXMJ",
        "outputId": "230bb479-be8d-40f7-e6af-d309e427c3d0"
      },
      "execution_count": null,
      "outputs": [
        {
          "output_type": "stream",
          "name": "stdout",
          "text": [
            "[ 1.70021833  0.61075248 -1.47840119  0.29455867 -0.3561215 ]\n",
            "tensor([0.3951, 0.3537, 0.6891, 0.0592, 0.5578])\n",
            "tf.Tensor([0.28349793 0.24567938 0.9285412  0.5748147  0.46014762], shape=(5,), dtype=float32)\n"
          ]
        }
      ]
    }
  ]
}