{
  "nbformat": 4,
  "nbformat_minor": 0,
  "metadata": {
    "colab": {
      "provenance": [],
      "authorship_tag": "ABX9TyPmvAdUOvEBB44AEFg7B+SG",
      "include_colab_link": true
    },
    "kernelspec": {
      "name": "python3",
      "display_name": "Python 3"
    },
    "language_info": {
      "name": "python"
    }
  },
  "cells": [
    {
      "cell_type": "markdown",
      "metadata": {
        "id": "view-in-github",
        "colab_type": "text"
      },
      "source": [
        "<a href=\"https://colab.research.google.com/github/KimDoye1109/AI-programming/blob/main/0412_%EC%9D%B8%EA%B3%B5%EC%A7%80%EB%8A%A5_%ED%94%84%EB%A1%9C%EA%B7%B8%EB%9E%98%EB%B0%8D.ipynb\" target=\"_parent\"><img src=\"https://colab.research.google.com/assets/colab-badge.svg\" alt=\"Open In Colab\"/></a>"
      ]
    },
    {
      "cell_type": "code",
      "execution_count": null,
      "metadata": {
        "colab": {
          "base_uri": "https://localhost:8080/"
        },
        "id": "U_I8Mz3Lo_A0",
        "outputId": "549aee25-fafc-434d-d898-d25cdd38888e"
      },
      "outputs": [
        {
          "output_type": "stream",
          "name": "stdout",
          "text": [
            "Collecting torchviz\n",
            "  Downloading torchviz-0.0.2.tar.gz (4.9 kB)\n",
            "  Preparing metadata (setup.py) ... \u001b[?25l\u001b[?25hdone\n",
            "Requirement already satisfied: torch in /usr/local/lib/python3.10/dist-packages (from torchviz) (2.2.1+cu121)\n",
            "Requirement already satisfied: graphviz in /usr/local/lib/python3.10/dist-packages (from torchviz) (0.20.3)\n",
            "Requirement already satisfied: filelock in /usr/local/lib/python3.10/dist-packages (from torch->torchviz) (3.13.4)\n",
            "Requirement already satisfied: typing-extensions>=4.8.0 in /usr/local/lib/python3.10/dist-packages (from torch->torchviz) (4.11.0)\n",
            "Requirement already satisfied: sympy in /usr/local/lib/python3.10/dist-packages (from torch->torchviz) (1.12)\n",
            "Requirement already satisfied: networkx in /usr/local/lib/python3.10/dist-packages (from torch->torchviz) (3.3)\n",
            "Requirement already satisfied: jinja2 in /usr/local/lib/python3.10/dist-packages (from torch->torchviz) (3.1.3)\n",
            "Requirement already satisfied: fsspec in /usr/local/lib/python3.10/dist-packages (from torch->torchviz) (2023.6.0)\n",
            "Collecting nvidia-cuda-nvrtc-cu12==12.1.105 (from torch->torchviz)\n",
            "  Using cached nvidia_cuda_nvrtc_cu12-12.1.105-py3-none-manylinux1_x86_64.whl (23.7 MB)\n",
            "Collecting nvidia-cuda-runtime-cu12==12.1.105 (from torch->torchviz)\n",
            "  Using cached nvidia_cuda_runtime_cu12-12.1.105-py3-none-manylinux1_x86_64.whl (823 kB)\n",
            "Collecting nvidia-cuda-cupti-cu12==12.1.105 (from torch->torchviz)\n",
            "  Using cached nvidia_cuda_cupti_cu12-12.1.105-py3-none-manylinux1_x86_64.whl (14.1 MB)\n",
            "Collecting nvidia-cudnn-cu12==8.9.2.26 (from torch->torchviz)\n",
            "  Using cached nvidia_cudnn_cu12-8.9.2.26-py3-none-manylinux1_x86_64.whl (731.7 MB)\n",
            "Collecting nvidia-cublas-cu12==12.1.3.1 (from torch->torchviz)\n",
            "  Using cached nvidia_cublas_cu12-12.1.3.1-py3-none-manylinux1_x86_64.whl (410.6 MB)\n",
            "Collecting nvidia-cufft-cu12==11.0.2.54 (from torch->torchviz)\n",
            "  Using cached nvidia_cufft_cu12-11.0.2.54-py3-none-manylinux1_x86_64.whl (121.6 MB)\n",
            "Collecting nvidia-curand-cu12==10.3.2.106 (from torch->torchviz)\n",
            "  Using cached nvidia_curand_cu12-10.3.2.106-py3-none-manylinux1_x86_64.whl (56.5 MB)\n",
            "Collecting nvidia-cusolver-cu12==11.4.5.107 (from torch->torchviz)\n",
            "  Using cached nvidia_cusolver_cu12-11.4.5.107-py3-none-manylinux1_x86_64.whl (124.2 MB)\n",
            "Collecting nvidia-cusparse-cu12==12.1.0.106 (from torch->torchviz)\n",
            "  Using cached nvidia_cusparse_cu12-12.1.0.106-py3-none-manylinux1_x86_64.whl (196.0 MB)\n",
            "Collecting nvidia-nccl-cu12==2.19.3 (from torch->torchviz)\n",
            "  Using cached nvidia_nccl_cu12-2.19.3-py3-none-manylinux1_x86_64.whl (166.0 MB)\n",
            "Collecting nvidia-nvtx-cu12==12.1.105 (from torch->torchviz)\n",
            "  Using cached nvidia_nvtx_cu12-12.1.105-py3-none-manylinux1_x86_64.whl (99 kB)\n",
            "Requirement already satisfied: triton==2.2.0 in /usr/local/lib/python3.10/dist-packages (from torch->torchviz) (2.2.0)\n",
            "Collecting nvidia-nvjitlink-cu12 (from nvidia-cusolver-cu12==11.4.5.107->torch->torchviz)\n",
            "  Using cached nvidia_nvjitlink_cu12-12.4.127-py3-none-manylinux2014_x86_64.whl (21.1 MB)\n",
            "Requirement already satisfied: MarkupSafe>=2.0 in /usr/local/lib/python3.10/dist-packages (from jinja2->torch->torchviz) (2.1.5)\n",
            "Requirement already satisfied: mpmath>=0.19 in /usr/local/lib/python3.10/dist-packages (from sympy->torch->torchviz) (1.3.0)\n",
            "Building wheels for collected packages: torchviz\n",
            "  Building wheel for torchviz (setup.py) ... \u001b[?25l\u001b[?25hdone\n",
            "  Created wheel for torchviz: filename=torchviz-0.0.2-py3-none-any.whl size=4132 sha256=bc760999146d92949dddf85bf6baa292a14d7117c46776dee7935dc9647de3f3\n",
            "  Stored in directory: /root/.cache/pip/wheels/4c/97/88/a02973217949e0db0c9f4346d154085f4725f99c4f15a87094\n",
            "Successfully built torchviz\n",
            "Installing collected packages: nvidia-nvtx-cu12, nvidia-nvjitlink-cu12, nvidia-nccl-cu12, nvidia-curand-cu12, nvidia-cufft-cu12, nvidia-cuda-runtime-cu12, nvidia-cuda-nvrtc-cu12, nvidia-cuda-cupti-cu12, nvidia-cublas-cu12, nvidia-cusparse-cu12, nvidia-cudnn-cu12, nvidia-cusolver-cu12, torchviz\n",
            "Successfully installed nvidia-cublas-cu12-12.1.3.1 nvidia-cuda-cupti-cu12-12.1.105 nvidia-cuda-nvrtc-cu12-12.1.105 nvidia-cuda-runtime-cu12-12.1.105 nvidia-cudnn-cu12-8.9.2.26 nvidia-cufft-cu12-11.0.2.54 nvidia-curand-cu12-10.3.2.106 nvidia-cusolver-cu12-11.4.5.107 nvidia-cusparse-cu12-12.1.0.106 nvidia-nccl-cu12-2.19.3 nvidia-nvjitlink-cu12-12.4.127 nvidia-nvtx-cu12-12.1.105 torchviz-0.0.2\n"
          ]
        }
      ],
      "source": [
        "!pip install torchviz"
      ]
    },
    {
      "cell_type": "code",
      "source": [
        "!pip install torchsummary #모듈의 정보를 보이게 함"
      ],
      "metadata": {
        "colab": {
          "base_uri": "https://localhost:8080/"
        },
        "id": "dAjkByP-pd2S",
        "outputId": "5f992748-01f7-436c-89ff-f1b1786aa43c"
      },
      "execution_count": null,
      "outputs": [
        {
          "output_type": "stream",
          "name": "stdout",
          "text": [
            "Requirement already satisfied: torchsummary in /usr/local/lib/python3.10/dist-packages (1.5.1)\n"
          ]
        }
      ]
    },
    {
      "cell_type": "code",
      "source": [
        "import numpy as np\n",
        "import torch"
      ],
      "metadata": {
        "id": "hqRxf-FSphgL"
      },
      "execution_count": null,
      "outputs": []
    },
    {
      "cell_type": "markdown",
      "source": [
        "##Data 생성부\n",
        "- input\n",
        "- output\n"
      ],
      "metadata": {
        "id": "WZ11SoVlHRF2"
      }
    },
    {
      "cell_type": "code",
      "source": [
        "x = np.linspace(-10,10,100)\n",
        "y_label = 1.8 * x + 32\n",
        "y = y_label + 8. * np.random.randn(100)\n",
        "\n",
        "import matplotlib.pyplot as plt\n",
        "\n",
        "plt.plot(x, y_label)\n",
        "plt.scatter(x,y)"
      ],
      "metadata": {
        "colab": {
          "base_uri": "https://localhost:8080/",
          "height": 448
        },
        "id": "wB7kGc-yqnvB",
        "outputId": "89717030-d33b-47ce-9e25-a1d9cab465aa"
      },
      "execution_count": 105,
      "outputs": [
        {
          "output_type": "execute_result",
          "data": {
            "text/plain": [
              "<matplotlib.collections.PathCollection at 0x7f6b1a7fcb80>"
            ]
          },
          "metadata": {},
          "execution_count": 105
        },
        {
          "output_type": "display_data",
          "data": {
            "text/plain": [
              "<Figure size 640x480 with 1 Axes>"
            ],
            "image/png": "[encoded data removed]"
          },
          "metadata": {}
        }
      ]
    },
    {
      "cell_type": "code",
      "source": [
        "x = torch.tensor(x).float()\n",
        "y = torch.tensor(y).float()\n",
        "\n",
        "print(x.shape)\n",
        "print(y.shape)"
      ],
      "metadata": {
        "colab": {
          "base_uri": "https://localhost:8080/"
        },
        "id": "JLqiMhMgrG4v",
        "outputId": "cad8d2f8-68c6-4e7d-ce68-e774ec589b73"
      },
      "execution_count": 106,
      "outputs": [
        {
          "output_type": "stream",
          "name": "stdout",
          "text": [
            "torch.Size([100])\n",
            "torch.Size([100])\n"
          ]
        }
      ]
    },
    {
      "cell_type": "code",
      "source": [
        "from torch.nn import Module, init, Linear, Parameter,ReLU"
      ],
      "metadata": {
        "id": "XOjqXxkfrjcN"
      },
      "execution_count": 144,
      "outputs": []
    },
    {
      "cell_type": "markdown",
      "source": [
        "## model 제작\n",
        "model => multiple layer\n",
        "\n",
        "하나의 layer가 model이라고 부름 이게 model를 나타내기도함\n",
        "\n",
        "init: 초기화할때 사용, 중요, 잘못사용하면 학습이 발산이 되는 경우 존재\n",
        "\n",
        "default로 초기화"
      ],
      "metadata": {
        "id": "JGhR8wMFr6tJ"
      }
    },
    {
      "cell_type": "code",
      "source": [
        "Linear.mro() #linear의 계층 구조를 보여줌"
      ],
      "metadata": {
        "colab": {
          "base_uri": "https://localhost:8080/"
        },
        "id": "iJnwr_otuDsh",
        "outputId": "41ff8f35-a50b-4d30-84aa-254b18eb3606"
      },
      "execution_count": 173,
      "outputs": [
        {
          "output_type": "execute_result",
          "data": {
            "text/plain": [
              "[torch.nn.modules.linear.Linear, torch.nn.modules.module.Module, object]"
            ]
          },
          "metadata": {},
          "execution_count": 173
        }
      ]
    },
    {
      "cell_type": "markdown",
      "source": [
        "https://ds31x.tistory.com/236\n",
        " init_으로 하는 것을 권함"
      ],
      "metadata": {
        "id": "g_NKemuN4w2a"
      }
    },
    {
      "cell_type": "code",
      "source": [
        "class DsLinearModel (Module): #custom module\n",
        "\n",
        "  def __init__(self, n_in_f, n_out_f): #인스턴스 메소드일 때 self 사용\n",
        "    super().__init__()\n",
        "    ##simple approach\n",
        "    # self.l0 = Linear(n_in_f, 3)#l0는 Linear의 인스턴스 (call of?)\n",
        "    # self.l1 = Linear(3, n_out_f)\n",
        "\n",
        "    # # 특정 tensor로 초기화하는 방법\n",
        "    # init_w = torch.ones(1,1)\n",
        "    # init_b = torch.zeros(1)\n",
        "    # self.l0 = Linear(n_in_f, n_out_f)\n",
        "    # self.l0.weight = Parameter(init_w)\n",
        "    # self.l0.bias = Parameter(init_b)\n",
        "\n",
        "    self.l0 = Linear(n_in_f, 32)\n",
        "    self.relu0 = ReLU()\n",
        "    self.l1 = Linear(32, 32)\n",
        "    self.relu1 = ReLU()\n",
        "    self.l2 = Linear(32, n_out_f)\n",
        "    with torch.no_grad():\n",
        "      init.constant_(self.l0.bias, 0.)\n",
        "      init.xavier_uniform_(self.l0.weight)\n",
        "\n",
        "\n",
        "  def forward(self,x):\n",
        "    x = self.l0(x)\n",
        "    x = self.relu0(x)\n",
        "    x = self.l1(x)\n",
        "    x = self.relu1(x)\n",
        "    y = self.l2(x)\n",
        "    return y"
      ],
      "metadata": {
        "id": "O515aMzRrzE2"
      },
      "execution_count": 174,
      "outputs": []
    },
    {
      "cell_type": "code",
      "source": [
        "#Linear에 들어있는 weight과 bias를 알고자 할 때\n",
        "model = DsLinearModel(1,1)\n",
        "for idx, c in enumerate (model.named_parameters()):\n",
        "  print(idx,c)"
      ],
      "metadata": {
        "colab": {
          "base_uri": "https://localhost:8080/"
        },
        "id": "-BZl87-Cu_Iy",
        "outputId": "4555e77d-48f6-449a-dcbd-1293dab094bf"
      },
      "execution_count": 175,
      "outputs": [
        {
          "output_type": "stream",
          "name": "stdout",
          "text": [
            "0 ('l0.weight', Parameter containing:\n",
            "tensor([[ 0.0393],\n",
            "        [-0.0932],\n",
            "        [ 0.1742],\n",
            "        [-0.4214],\n",
            "        [-0.4151],\n",
            "        [ 0.1026],\n",
            "        [ 0.4173],\n",
            "        [-0.1234],\n",
            "        [ 0.0751],\n",
            "        [ 0.2834],\n",
            "        [-0.0928],\n",
            "        [-0.3774],\n",
            "        [ 0.1814],\n",
            "        [ 0.1031],\n",
            "        [-0.3694],\n",
            "        [ 0.2081],\n",
            "        [-0.2964],\n",
            "        [-0.3741],\n",
            "        [ 0.3235],\n",
            "        [ 0.0459],\n",
            "        [ 0.4245],\n",
            "        [-0.0542],\n",
            "        [-0.1407],\n",
            "        [ 0.3739],\n",
            "        [ 0.1082],\n",
            "        [-0.2950],\n",
            "        [ 0.4088],\n",
            "        [-0.2527],\n",
            "        [-0.2374],\n",
            "        [-0.1518],\n",
            "        [-0.3406],\n",
            "        [-0.2907]], requires_grad=True))\n",
            "1 ('l0.bias', Parameter containing:\n",
            "tensor([0., 0., 0., 0., 0., 0., 0., 0., 0., 0., 0., 0., 0., 0., 0., 0., 0., 0., 0., 0., 0., 0., 0., 0.,\n",
            "        0., 0., 0., 0., 0., 0., 0., 0.], requires_grad=True))\n",
            "2 ('l1.weight', Parameter containing:\n",
            "tensor([[ 0.0506,  0.1533, -0.0915,  ...,  0.0412,  0.0733,  0.0950],\n",
            "        [ 0.0312, -0.0844, -0.1398,  ..., -0.1742,  0.0204, -0.0507],\n",
            "        [ 0.0445,  0.1330, -0.0630,  ...,  0.0042,  0.1576, -0.0606],\n",
            "        ...,\n",
            "        [ 0.0550,  0.0474,  0.1630,  ...,  0.0397,  0.0324,  0.1375],\n",
            "        [-0.1468,  0.0798, -0.1489,  ..., -0.0474, -0.1158,  0.0520],\n",
            "        [ 0.0731, -0.1414,  0.0974,  ...,  0.0960, -0.0564, -0.0821]],\n",
            "       requires_grad=True))\n",
            "3 ('l1.bias', Parameter containing:\n",
            "tensor([-0.1676,  0.0390, -0.1649, -0.1163,  0.0555, -0.0468,  0.0567, -0.0710,\n",
            "        -0.1256,  0.1552,  0.1287, -0.1715, -0.0604,  0.0785,  0.0599,  0.0326,\n",
            "        -0.0932,  0.1450, -0.1219, -0.0177, -0.0451,  0.1518,  0.1451,  0.1441,\n",
            "        -0.1568,  0.0586, -0.0619, -0.1120,  0.0484, -0.1107, -0.1725,  0.1605],\n",
            "       requires_grad=True))\n",
            "4 ('l2.weight', Parameter containing:\n",
            "tensor([[-0.0296,  0.0791,  0.0291, -0.1093,  0.1640,  0.1080, -0.1002, -0.0642,\n",
            "          0.0772, -0.0343, -0.1593,  0.0155,  0.1253,  0.0850, -0.0776, -0.1510,\n",
            "         -0.0156,  0.1516,  0.0431, -0.1562,  0.1019,  0.0353, -0.0096, -0.0096,\n",
            "         -0.0650, -0.1223, -0.0583, -0.0492,  0.1079, -0.1101,  0.0530,  0.0571]],\n",
            "       requires_grad=True))\n",
            "5 ('l2.bias', Parameter containing:\n",
            "tensor([-0.0255], requires_grad=True))\n"
          ]
        }
      ]
    },
    {
      "cell_type": "code",
      "source": [
        "for idx, cl in enumerate(model.named_children()):\n",
        "  print(idx,cl)"
      ],
      "metadata": {
        "colab": {
          "base_uri": "https://localhost:8080/"
        },
        "id": "9WKvrXS5vVAA",
        "outputId": "4d71e1ac-d2bf-474d-b8f9-88fc8edaca41"
      },
      "execution_count": 176,
      "outputs": [
        {
          "output_type": "stream",
          "name": "stdout",
          "text": [
            "0 ('l0', Linear(in_features=1, out_features=32, bias=True))\n",
            "1 ('relu0', ReLU())\n",
            "2 ('l1', Linear(in_features=32, out_features=32, bias=True))\n",
            "3 ('relu1', ReLU())\n",
            "4 ('l2', Linear(in_features=32, out_features=1, bias=True))\n"
          ]
        }
      ]
    },
    {
      "cell_type": "code",
      "source": [
        "#for idx, modu in enumerate(name_model.modules()):\n",
        "for idx, modu in enumerate(model.modules()):\n",
        "  print(idx, modu)"
      ],
      "metadata": {
        "colab": {
          "base_uri": "https://localhost:8080/"
        },
        "id": "bFSD8E7Rv1sl",
        "outputId": "ab5bd9e6-389d-4efe-ea25-55104aa7b564"
      },
      "execution_count": 177,
      "outputs": [
        {
          "output_type": "stream",
          "name": "stdout",
          "text": [
            "0 DsLinearModel(\n",
            "  (l0): Linear(in_features=1, out_features=32, bias=True)\n",
            "  (relu0): ReLU()\n",
            "  (l1): Linear(in_features=32, out_features=32, bias=True)\n",
            "  (relu1): ReLU()\n",
            "  (l2): Linear(in_features=32, out_features=1, bias=True)\n",
            ")\n",
            "1 Linear(in_features=1, out_features=32, bias=True)\n",
            "2 ReLU()\n",
            "3 Linear(in_features=32, out_features=32, bias=True)\n",
            "4 ReLU()\n",
            "5 Linear(in_features=32, out_features=1, bias=True)\n"
          ]
        }
      ]
    },
    {
      "cell_type": "code",
      "source": [
        "x = x.reshape(-1,1)\n",
        "x.shape"
      ],
      "metadata": {
        "id": "oim67Pbfwz4z",
        "colab": {
          "base_uri": "https://localhost:8080/"
        },
        "outputId": "263f3a4d-ce3f-472d-b35f-168c81eba3d4"
      },
      "execution_count": 178,
      "outputs": [
        {
          "output_type": "execute_result",
          "data": {
            "text/plain": [
              "torch.Size([100, 1])"
            ]
          },
          "metadata": {},
          "execution_count": 178
        }
      ]
    },
    {
      "cell_type": "code",
      "source": [
        "y_pred = model(x)"
      ],
      "metadata": {
        "id": "xkp3U5e-yA4M"
      },
      "execution_count": 179,
      "outputs": []
    },
    {
      "cell_type": "code",
      "source": [
        "y_pred"
      ],
      "metadata": {
        "colab": {
          "base_uri": "https://localhost:8080/"
        },
        "id": "1yMTnJG9yKFI",
        "outputId": "db811e15-01df-4b68-907d-bf6395ce079a"
      },
      "execution_count": 180,
      "outputs": [
        {
          "output_type": "execute_result",
          "data": {
            "text/plain": [
              "tensor([[ 0.1216],\n",
              "        [ 0.1181],\n",
              "        [ 0.1146],\n",
              "        [ 0.1112],\n",
              "        [ 0.1077],\n",
              "        [ 0.1042],\n",
              "        [ 0.1008],\n",
              "        [ 0.0973],\n",
              "        [ 0.0938],\n",
              "        [ 0.0904],\n",
              "        [ 0.0869],\n",
              "        [ 0.0834],\n",
              "        [ 0.0798],\n",
              "        [ 0.0763],\n",
              "        [ 0.0727],\n",
              "        [ 0.0691],\n",
              "        [ 0.0656],\n",
              "        [ 0.0619],\n",
              "        [ 0.0581],\n",
              "        [ 0.0543],\n",
              "        [ 0.0506],\n",
              "        [ 0.0468],\n",
              "        [ 0.0432],\n",
              "        [ 0.0396],\n",
              "        [ 0.0360],\n",
              "        [ 0.0324],\n",
              "        [ 0.0288],\n",
              "        [ 0.0252],\n",
              "        [ 0.0216],\n",
              "        [ 0.0180],\n",
              "        [ 0.0138],\n",
              "        [ 0.0096],\n",
              "        [ 0.0060],\n",
              "        [ 0.0020],\n",
              "        [-0.0020],\n",
              "        [-0.0061],\n",
              "        [-0.0099],\n",
              "        [-0.0132],\n",
              "        [-0.0166],\n",
              "        [-0.0200],\n",
              "        [-0.0239],\n",
              "        [-0.0277],\n",
              "        [-0.0316],\n",
              "        [-0.0345],\n",
              "        [-0.0341],\n",
              "        [-0.0338],\n",
              "        [-0.0326],\n",
              "        [-0.0301],\n",
              "        [-0.0246],\n",
              "        [-0.0186],\n",
              "        [-0.0114],\n",
              "        [-0.0023],\n",
              "        [ 0.0079],\n",
              "        [ 0.0178],\n",
              "        [ 0.0292],\n",
              "        [ 0.0410],\n",
              "        [ 0.0546],\n",
              "        [ 0.0688],\n",
              "        [ 0.0831],\n",
              "        [ 0.0973],\n",
              "        [ 0.1113],\n",
              "        [ 0.1252],\n",
              "        [ 0.1392],\n",
              "        [ 0.1515],\n",
              "        [ 0.1635],\n",
              "        [ 0.1753],\n",
              "        [ 0.1868],\n",
              "        [ 0.1977],\n",
              "        [ 0.2086],\n",
              "        [ 0.2196],\n",
              "        [ 0.2305],\n",
              "        [ 0.2414],\n",
              "        [ 0.2523],\n",
              "        [ 0.2633],\n",
              "        [ 0.2742],\n",
              "        [ 0.2851],\n",
              "        [ 0.2960],\n",
              "        [ 0.3070],\n",
              "        [ 0.3179],\n",
              "        [ 0.3288],\n",
              "        [ 0.3397],\n",
              "        [ 0.3507],\n",
              "        [ 0.3616],\n",
              "        [ 0.3725],\n",
              "        [ 0.3834],\n",
              "        [ 0.3944],\n",
              "        [ 0.4053],\n",
              "        [ 0.4162],\n",
              "        [ 0.4271],\n",
              "        [ 0.4381],\n",
              "        [ 0.4490],\n",
              "        [ 0.4599],\n",
              "        [ 0.4708],\n",
              "        [ 0.4818],\n",
              "        [ 0.4927],\n",
              "        [ 0.5036],\n",
              "        [ 0.5145],\n",
              "        [ 0.5255],\n",
              "        [ 0.5364],\n",
              "        [ 0.5473]], grad_fn=<AddmmBackward0>)"
            ]
          },
          "metadata": {},
          "execution_count": 180
        }
      ]
    },
    {
      "cell_type": "code",
      "source": [
        "pred = Linear(1,1)(x)"
      ],
      "metadata": {
        "id": "eaSGJ7JhyKZR"
      },
      "execution_count": 181,
      "outputs": []
    },
    {
      "cell_type": "code",
      "source": [
        "pred"
      ],
      "metadata": {
        "colab": {
          "base_uri": "https://localhost:8080/"
        },
        "id": "uSUQUof41X9v",
        "outputId": "aea314ca-b7b3-4c84-e85f-c50579305776"
      },
      "execution_count": 182,
      "outputs": [
        {
          "output_type": "execute_result",
          "data": {
            "text/plain": [
              "tensor([[-3.6568],\n",
              "        [-3.5899],\n",
              "        [-3.5231],\n",
              "        [-3.4563],\n",
              "        [-3.3894],\n",
              "        [-3.3226],\n",
              "        [-3.2557],\n",
              "        [-3.1889],\n",
              "        [-3.1221],\n",
              "        [-3.0552],\n",
              "        [-2.9884],\n",
              "        [-2.9215],\n",
              "        [-2.8547],\n",
              "        [-2.7879],\n",
              "        [-2.7210],\n",
              "        [-2.6542],\n",
              "        [-2.5874],\n",
              "        [-2.5205],\n",
              "        [-2.4537],\n",
              "        [-2.3868],\n",
              "        [-2.3200],\n",
              "        [-2.2532],\n",
              "        [-2.1863],\n",
              "        [-2.1195],\n",
              "        [-2.0527],\n",
              "        [-1.9858],\n",
              "        [-1.9190],\n",
              "        [-1.8521],\n",
              "        [-1.7853],\n",
              "        [-1.7185],\n",
              "        [-1.6516],\n",
              "        [-1.5848],\n",
              "        [-1.5180],\n",
              "        [-1.4511],\n",
              "        [-1.3843],\n",
              "        [-1.3174],\n",
              "        [-1.2506],\n",
              "        [-1.1838],\n",
              "        [-1.1169],\n",
              "        [-1.0501],\n",
              "        [-0.9832],\n",
              "        [-0.9164],\n",
              "        [-0.8496],\n",
              "        [-0.7827],\n",
              "        [-0.7159],\n",
              "        [-0.6491],\n",
              "        [-0.5822],\n",
              "        [-0.5154],\n",
              "        [-0.4485],\n",
              "        [-0.3817],\n",
              "        [-0.3149],\n",
              "        [-0.2480],\n",
              "        [-0.1812],\n",
              "        [-0.1144],\n",
              "        [-0.0475],\n",
              "        [ 0.0193],\n",
              "        [ 0.0862],\n",
              "        [ 0.1530],\n",
              "        [ 0.2198],\n",
              "        [ 0.2867],\n",
              "        [ 0.3535],\n",
              "        [ 0.4203],\n",
              "        [ 0.4872],\n",
              "        [ 0.5540],\n",
              "        [ 0.6209],\n",
              "        [ 0.6877],\n",
              "        [ 0.7545],\n",
              "        [ 0.8214],\n",
              "        [ 0.8882],\n",
              "        [ 0.9550],\n",
              "        [ 1.0219],\n",
              "        [ 1.0887],\n",
              "        [ 1.1556],\n",
              "        [ 1.2224],\n",
              "        [ 1.2892],\n",
              "        [ 1.3561],\n",
              "        [ 1.4229],\n",
              "        [ 1.4898],\n",
              "        [ 1.5566],\n",
              "        [ 1.6234],\n",
              "        [ 1.6903],\n",
              "        [ 1.7571],\n",
              "        [ 1.8239],\n",
              "        [ 1.8908],\n",
              "        [ 1.9576],\n",
              "        [ 2.0245],\n",
              "        [ 2.0913],\n",
              "        [ 2.1581],\n",
              "        [ 2.2250],\n",
              "        [ 2.2918],\n",
              "        [ 2.3586],\n",
              "        [ 2.4255],\n",
              "        [ 2.4923],\n",
              "        [ 2.5592],\n",
              "        [ 2.6260],\n",
              "        [ 2.6928],\n",
              "        [ 2.7597],\n",
              "        [ 2.8265],\n",
              "        [ 2.8933],\n",
              "        [ 2.9602]], grad_fn=<AddmmBackward0>)"
            ]
          },
          "metadata": {},
          "execution_count": 182
        }
      ]
    },
    {
      "cell_type": "code",
      "source": [
        "y.shape"
      ],
      "metadata": {
        "colab": {
          "base_uri": "https://localhost:8080/"
        },
        "id": "5sGfFRmy5szT",
        "outputId": "669135f6-e7a4-4abf-9c6f-3970c6f70737"
      },
      "execution_count": 183,
      "outputs": [
        {
          "output_type": "execute_result",
          "data": {
            "text/plain": [
              "torch.Size([100, 1])"
            ]
          },
          "metadata": {},
          "execution_count": 183
        }
      ]
    },
    {
      "cell_type": "code",
      "source": [
        "y = y.reshape(-1,1)\n",
        "y"
      ],
      "metadata": {
        "colab": {
          "base_uri": "https://localhost:8080/"
        },
        "id": "Ueqx676O5uzh",
        "outputId": "7c1a7bb3-3867-4bac-eeda-a24b95a22db6"
      },
      "execution_count": 184,
      "outputs": [
        {
          "output_type": "execute_result",
          "data": {
            "text/plain": [
              "tensor([[12.7314],\n",
              "        [16.4252],\n",
              "        [13.7376],\n",
              "        [19.2463],\n",
              "        [14.3580],\n",
              "        [25.3927],\n",
              "        [10.7852],\n",
              "        [16.4399],\n",
              "        [16.5413],\n",
              "        [15.9693],\n",
              "        [13.0019],\n",
              "        [24.4051],\n",
              "        [20.5014],\n",
              "        [16.3865],\n",
              "        [19.3830],\n",
              "        [17.1106],\n",
              "        [19.9607],\n",
              "        [24.8759],\n",
              "        [16.8386],\n",
              "        [25.8445],\n",
              "        [27.5496],\n",
              "        [18.1784],\n",
              "        [16.2167],\n",
              "        [28.7088],\n",
              "        [33.9113],\n",
              "        [25.8805],\n",
              "        [16.3395],\n",
              "        [17.7487],\n",
              "        [25.5478],\n",
              "        [28.3583],\n",
              "        [22.7716],\n",
              "        [31.9000],\n",
              "        [21.0221],\n",
              "        [21.9676],\n",
              "        [30.0844],\n",
              "        [31.3031],\n",
              "        [30.5054],\n",
              "        [20.5459],\n",
              "        [20.2403],\n",
              "        [25.9557],\n",
              "        [31.5366],\n",
              "        [27.8853],\n",
              "        [26.2150],\n",
              "        [32.7993],\n",
              "        [35.8485],\n",
              "        [35.7091],\n",
              "        [32.6416],\n",
              "        [31.8124],\n",
              "        [32.5721],\n",
              "        [21.8601],\n",
              "        [33.2475],\n",
              "        [40.1233],\n",
              "        [37.0981],\n",
              "        [44.5428],\n",
              "        [33.1709],\n",
              "        [36.2557],\n",
              "        [26.1009],\n",
              "        [37.2306],\n",
              "        [41.6756],\n",
              "        [36.1338],\n",
              "        [28.7480],\n",
              "        [36.1350],\n",
              "        [31.3819],\n",
              "        [44.1210],\n",
              "        [43.7665],\n",
              "        [41.1325],\n",
              "        [37.1627],\n",
              "        [42.2232],\n",
              "        [37.9037],\n",
              "        [34.1930],\n",
              "        [36.3473],\n",
              "        [36.4540],\n",
              "        [42.1818],\n",
              "        [37.6084],\n",
              "        [44.2527],\n",
              "        [38.4600],\n",
              "        [40.2337],\n",
              "        [39.0027],\n",
              "        [37.2621],\n",
              "        [38.1704],\n",
              "        [48.0501],\n",
              "        [42.2334],\n",
              "        [47.5792],\n",
              "        [44.3293],\n",
              "        [50.0213],\n",
              "        [49.6450],\n",
              "        [51.7695],\n",
              "        [50.4637],\n",
              "        [37.1515],\n",
              "        [50.4779],\n",
              "        [51.7462],\n",
              "        [40.5595],\n",
              "        [47.7405],\n",
              "        [53.1575],\n",
              "        [39.3152],\n",
              "        [46.5278],\n",
              "        [60.6579],\n",
              "        [52.6511],\n",
              "        [40.1114],\n",
              "        [50.5568]])"
            ]
          },
          "metadata": {},
          "execution_count": 184
        }
      ]
    },
    {
      "cell_type": "code",
      "source": [
        "pred.shape"
      ],
      "metadata": {
        "colab": {
          "base_uri": "https://localhost:8080/"
        },
        "id": "bRzn-L0Q50Wy",
        "outputId": "6582f063-06b2-4a40-aff4-ed51a72efd41"
      },
      "execution_count": 185,
      "outputs": [
        {
          "output_type": "execute_result",
          "data": {
            "text/plain": [
              "torch.Size([100, 1])"
            ]
          },
          "metadata": {},
          "execution_count": 185
        }
      ]
    },
    {
      "cell_type": "markdown",
      "source": [
        "## loss"
      ],
      "metadata": {
        "id": "8rmcPJagHwb3"
      }
    },
    {
      "cell_type": "code",
      "source": [
        "from torch.nn import MSELoss\n",
        "\n",
        "loss_func = MSELoss()\n",
        "\n",
        "l = loss_func(pred,y)\n",
        "l"
      ],
      "metadata": {
        "colab": {
          "base_uri": "https://localhost:8080/"
        },
        "id": "hjDHPU2r1YnW",
        "outputId": "08497ffd-1265-48a5-fe21-e235d807b744"
      },
      "execution_count": 164,
      "outputs": [
        {
          "output_type": "execute_result",
          "data": {
            "text/plain": [
              "tensor(1320.4185, grad_fn=<MseLossBackward0>)"
            ]
          },
          "metadata": {},
          "execution_count": 164
        }
      ]
    },
    {
      "cell_type": "markdown",
      "source": [
        "## training Loop"
      ],
      "metadata": {
        "id": "9BBtHtOBIQAG"
      }
    },
    {
      "cell_type": "code",
      "source": [
        "p= model(x)\n"
      ],
      "metadata": {
        "id": "p1PNTcpz_vHg"
      },
      "execution_count": 165,
      "outputs": []
    },
    {
      "cell_type": "code",
      "source": [
        "from torch import optim\n",
        "\n",
        "\n",
        "def training_loop(\n",
        "    x, y,\n",
        "    model,\n",
        "    lr,\n",
        "    optimizer, #optimizer type\n",
        "    n_epochs, #\n",
        "    ):\n",
        "\n",
        "  model.train()\n",
        "#model.eval\n",
        "  optimizer = optim.SGD(\n",
        "    model.parameters(),\n",
        ")\n",
        "  for epoch in range(n_epochs):\n",
        "\n",
        "    pred = model(x)\n",
        "    l = loss_func(pred, y)\n",
        "\n",
        "    if torch.isinf(l).any():\n",
        "\n",
        "      print(\"Error :diverge!\")\n",
        "      break\n",
        "\n",
        "    optimizer.zero_grad()\n",
        "    l.backward()\n",
        "    optimizer.step()\n",
        "\n",
        "    if epoch % 1000 == 0 :\n",
        "      print(f\"Epoch {epoch} : Loss {float(l):0.4f} \")\n",
        "\n",
        "  return model"
      ],
      "metadata": {
        "id": "-cdVuXh8DANi"
      },
      "execution_count": 166,
      "outputs": []
    },
    {
      "cell_type": "code",
      "source": [
        "# from torch import optim\n",
        "\n",
        "# def training_loop(\n",
        "#   x,y,\n",
        "#   model,\n",
        "#   lr,\n",
        "#   optimizer,\n",
        "#   n_epochs,\n",
        "#   ):\n",
        "#   model.train() #train모델로 설정\n",
        "#   # model.eval()\n",
        "#   # optimizer = optim.SGD(\n",
        "#   #     model.parameters(),\n",
        "#   # )\n",
        "\n",
        "#   for epoch in range(n_epochs):\n",
        "#     print(epoch)\n",
        "#     pred = model(x)\n",
        "#     l = loss_func(pred,y)\n",
        "#     if torch.isinf(l).any():\n",
        "#       print('Error: diverge!')\n",
        "#       break\n",
        "\n",
        "#     optimizer.zero_grad()\n",
        "#     l.backward()\n",
        "#     optimizer.step()\n",
        "\n",
        "#     if epoch % 1000 == 0:\n",
        "#       print(f'Epoch {epoch}: Loss{float(l):0.4f}')\n",
        "\n",
        "#   return model"
      ],
      "metadata": {
        "id": "tVt-Lvfo5jie"
      },
      "execution_count": 167,
      "outputs": []
    },
    {
      "cell_type": "code",
      "source": [
        "model = training_loop(\n",
        "    x,y,\n",
        "    model,\n",
        "    1e-3,\n",
        "    optimizer,\n",
        "    7000,\n",
        ")"
      ],
      "metadata": {
        "colab": {
          "base_uri": "https://localhost:8080/"
        },
        "id": "TmOgtP5175lN",
        "outputId": "f5d6febb-3e4e-40e3-c830-415c7dd4f497"
      },
      "execution_count": 168,
      "outputs": [
        {
          "output_type": "stream",
          "name": "stdout",
          "text": [
            "Epoch 0 : Loss 1178.2622 \n",
            "Epoch 1000 : Loss 24.2140 \n",
            "Epoch 2000 : Loss 23.7517 \n",
            "Epoch 3000 : Loss 23.6498 \n",
            "Epoch 4000 : Loss 23.5714 \n",
            "Epoch 5000 : Loss 23.5379 \n",
            "Epoch 6000 : Loss 23.5091 \n"
          ]
        }
      ]
    },
    {
      "cell_type": "markdown",
      "source": [
        "## train"
      ],
      "metadata": {
        "id": "MMIitY8oHmhR"
      }
    },
    {
      "cell_type": "code",
      "source": [
        "pred = model(x)\n",
        "\n",
        "plt.scatter(x.detach().numpy(),y.detach().numpy())\n",
        "plt.plot(x.detach().numpy(),pred.detach().numpy(),color = 'r')\n",
        "plt.plot(x.detach().numpy(),y_label, color = 'g')"
      ],
      "metadata": {
        "colab": {
          "base_uri": "https://localhost:8080/",
          "height": 448
        },
        "id": "waBczm7p8YRg",
        "outputId": "12a8c47a-bf8d-4440-e0a4-f4f159ae2162"
      },
      "execution_count": 169,
      "outputs": [
        {
          "output_type": "execute_result",
          "data": {
            "text/plain": [
              "[<matplotlib.lines.Line2D at 0x7f6b1a4d8a30>]"
            ]
          },
          "metadata": {},
          "execution_count": 169
        },
        {
          "output_type": "display_data",
          "data": {
            "text/plain": [
              "<Figure size 640x480 with 1 Axes>"
            ],
            "image/png": "[encoded data removed]"
          },
          "metadata": {}
        }
      ]
    },
    {
      "cell_type": "code",
      "source": [
        "# model = training_loop(\n",
        "#     x,y,\n",
        "#     Linear(1,1),\n",
        "#     1e-3,\n",
        "#     7000,\n",
        "# )"
      ],
      "metadata": {
        "id": "qiaVnbOn9YyP"
      },
      "execution_count": 170,
      "outputs": []
    },
    {
      "cell_type": "code",
      "source": [
        "# pred = model(x)\n",
        "\n",
        "# plt,plot(x,pred)"
      ],
      "metadata": {
        "id": "8u65i1zxBcVv"
      },
      "execution_count": 171,
      "outputs": []
    },
    {
      "cell_type": "markdown",
      "source": [
        "##evaluation"
      ],
      "metadata": {
        "id": "8ouD1EOqIkNU"
      }
    },
    {
      "cell_type": "code",
      "source": [
        "from torchsummary import summary\n",
        "summary(model,(1,))"
      ],
      "metadata": {
        "colab": {
          "base_uri": "https://localhost:8080/"
        },
        "id": "RjtLWWmOFFlC",
        "outputId": "74e0697a-cdbc-480f-b6df-94ce55fedaf8"
      },
      "execution_count": 172,
      "outputs": [
        {
          "output_type": "stream",
          "name": "stdout",
          "text": [
            "----------------------------------------------------------------\n",
            "        Layer (type)               Output Shape         Param #\n",
            "================================================================\n",
            "            Linear-1                   [-1, 32]              64\n",
            "              ReLU-2                   [-1, 32]               0\n",
            "            Linear-3                   [-1, 32]           1,056\n",
            "              ReLU-4                   [-1, 32]               0\n",
            "            Linear-5                    [-1, 1]              33\n",
            "================================================================\n",
            "Total params: 1,153\n",
            "Trainable params: 1,153\n",
            "Non-trainable params: 0\n",
            "----------------------------------------------------------------\n",
            "Input size (MB): 0.00\n",
            "Forward/backward pass size (MB): 0.00\n",
            "Params size (MB): 0.00\n",
            "Estimated Total Size (MB): 0.01\n",
            "----------------------------------------------------------------\n"
          ]
        }
      ]
    },
    {
      "cell_type": "code",
      "source": [],
      "metadata": {
        "id": "8hOfgCNoFV7R"
      },
      "execution_count": null,
      "outputs": []
    }
  ]
}